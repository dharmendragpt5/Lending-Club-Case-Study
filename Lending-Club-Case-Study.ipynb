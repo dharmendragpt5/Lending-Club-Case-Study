{
 "cells": [
  {
   "cell_type": "markdown",
   "id": "ddc4ad3a",
   "metadata": {},
   "source": [
    "# Assignment : Lending Club Case Study"
   ]
  },
  {
   "cell_type": "markdown",
   "id": "b8576b16",
   "metadata": {},
   "source": [
    "## Project Description"
   ]
  },
  {
   "cell_type": "markdown",
   "id": "e20016c8",
   "metadata": {},
   "source": [
    "This assignment will give us an idea about how real business problems are solved or can reduce the error in every business  using EDA. In this case study, We will understand how quality data is used to minimise the risk of losing money while sanctioning loan to customers."
   ]
  },
  {
   "cell_type": "markdown",
   "id": "e09ba815",
   "metadata": {},
   "source": [
    "## Business Understanding"
   ]
  },
  {
   "cell_type": "markdown",
   "id": "ab99b0e8",
   "metadata": {},
   "source": [
    "This case study is for Lending club which is a finance company which specialises in lending various types of loans to various customers.\n",
    "\n",
    "When the company receives a loan application or some one apply for loan, the company has to make a decision for loan approval based on the applicant’s profile. Two types of risks are associated with the bank’s decision: \n",
    "\n",
    "1. If the applicant have potential to repay the loan, then not approving the loan results in a loss of business to the company \n",
    "\n",
    "\n",
    "2. If the applicant dont have potential to repay the loan, i.e. he/she is likely to default, then approving the loan may lead to a financial loss for the company\n",
    "\n",
    "The data given below contains the information about loan applicants and whether they ‘defaulted’ or not. The main goal is to analyse whether a person is likely to default, By which we can take actions such as denying the loan, reducing the amount of loan, loan at a higher interest rate, etc.\n",
    "\n",
    "In this case study, you will use EDA to understand how consumer attributes and loan attributes influence the tendency of default. "
   ]
  },
  {
   "cell_type": "code",
   "execution_count": 2,
   "id": "d1b744d6",
   "metadata": {},
   "outputs": [],
   "source": [
    "###import libraries\n",
    "import numpy as np\n",
    "import pandas as pd\n",
    "import matplotlib.pyplot as plt\n",
    "import seaborn as sns\n",
    "\n",
    "import warnings\n",
    "warnings.filterwarnings('ignore')"
   ]
  },
  {
   "cell_type": "code",
   "execution_count": 3,
   "id": "1299f545",
   "metadata": {},
   "outputs": [],
   "source": [
    "####Loading the loan data\n",
    "loan_data=pd.read_csv('loan.csv')"
   ]
  },
  {
   "cell_type": "code",
   "execution_count": 4,
   "id": "25d80710",
   "metadata": {},
   "outputs": [
    {
     "data": {
      "text/plain": [
       "(39717, 111)"
      ]
     },
     "execution_count": 4,
     "metadata": {},
     "output_type": "execute_result"
    }
   ],
   "source": [
    "loan_data.shape"
   ]
  },
  {
   "cell_type": "code",
   "execution_count": 5,
   "id": "ac6f5d5b",
   "metadata": {},
   "outputs": [
    {
     "data": {
      "text/html": [
       "<div>\n",
       "<style scoped>\n",
       "    .dataframe tbody tr th:only-of-type {\n",
       "        vertical-align: middle;\n",
       "    }\n",
       "\n",
       "    .dataframe tbody tr th {\n",
       "        vertical-align: top;\n",
       "    }\n",
       "\n",
       "    .dataframe thead th {\n",
       "        text-align: right;\n",
       "    }\n",
       "</style>\n",
       "<table border=\"1\" class=\"dataframe\">\n",
       "  <thead>\n",
       "    <tr style=\"text-align: right;\">\n",
       "      <th></th>\n",
       "      <th>id</th>\n",
       "      <th>member_id</th>\n",
       "      <th>loan_amnt</th>\n",
       "      <th>funded_amnt</th>\n",
       "      <th>funded_amnt_inv</th>\n",
       "      <th>installment</th>\n",
       "      <th>annual_inc</th>\n",
       "      <th>dti</th>\n",
       "      <th>delinq_2yrs</th>\n",
       "      <th>inq_last_6mths</th>\n",
       "      <th>...</th>\n",
       "      <th>num_tl_90g_dpd_24m</th>\n",
       "      <th>num_tl_op_past_12m</th>\n",
       "      <th>pct_tl_nvr_dlq</th>\n",
       "      <th>percent_bc_gt_75</th>\n",
       "      <th>pub_rec_bankruptcies</th>\n",
       "      <th>tax_liens</th>\n",
       "      <th>tot_hi_cred_lim</th>\n",
       "      <th>total_bal_ex_mort</th>\n",
       "      <th>total_bc_limit</th>\n",
       "      <th>total_il_high_credit_limit</th>\n",
       "    </tr>\n",
       "  </thead>\n",
       "  <tbody>\n",
       "    <tr>\n",
       "      <th>count</th>\n",
       "      <td>3.971700e+04</td>\n",
       "      <td>3.971700e+04</td>\n",
       "      <td>39717.000000</td>\n",
       "      <td>39717.000000</td>\n",
       "      <td>39717.000000</td>\n",
       "      <td>39717.000000</td>\n",
       "      <td>3.971700e+04</td>\n",
       "      <td>39717.000000</td>\n",
       "      <td>39717.000000</td>\n",
       "      <td>39717.000000</td>\n",
       "      <td>...</td>\n",
       "      <td>0.0</td>\n",
       "      <td>0.0</td>\n",
       "      <td>0.0</td>\n",
       "      <td>0.0</td>\n",
       "      <td>39020.000000</td>\n",
       "      <td>39678.0</td>\n",
       "      <td>0.0</td>\n",
       "      <td>0.0</td>\n",
       "      <td>0.0</td>\n",
       "      <td>0.0</td>\n",
       "    </tr>\n",
       "    <tr>\n",
       "      <th>mean</th>\n",
       "      <td>6.831319e+05</td>\n",
       "      <td>8.504636e+05</td>\n",
       "      <td>11219.443815</td>\n",
       "      <td>10947.713196</td>\n",
       "      <td>10397.448868</td>\n",
       "      <td>324.561922</td>\n",
       "      <td>6.896893e+04</td>\n",
       "      <td>13.315130</td>\n",
       "      <td>0.146512</td>\n",
       "      <td>0.869200</td>\n",
       "      <td>...</td>\n",
       "      <td>NaN</td>\n",
       "      <td>NaN</td>\n",
       "      <td>NaN</td>\n",
       "      <td>NaN</td>\n",
       "      <td>0.043260</td>\n",
       "      <td>0.0</td>\n",
       "      <td>NaN</td>\n",
       "      <td>NaN</td>\n",
       "      <td>NaN</td>\n",
       "      <td>NaN</td>\n",
       "    </tr>\n",
       "    <tr>\n",
       "      <th>std</th>\n",
       "      <td>2.106941e+05</td>\n",
       "      <td>2.656783e+05</td>\n",
       "      <td>7456.670694</td>\n",
       "      <td>7187.238670</td>\n",
       "      <td>7128.450439</td>\n",
       "      <td>208.874874</td>\n",
       "      <td>6.379377e+04</td>\n",
       "      <td>6.678594</td>\n",
       "      <td>0.491812</td>\n",
       "      <td>1.070219</td>\n",
       "      <td>...</td>\n",
       "      <td>NaN</td>\n",
       "      <td>NaN</td>\n",
       "      <td>NaN</td>\n",
       "      <td>NaN</td>\n",
       "      <td>0.204324</td>\n",
       "      <td>0.0</td>\n",
       "      <td>NaN</td>\n",
       "      <td>NaN</td>\n",
       "      <td>NaN</td>\n",
       "      <td>NaN</td>\n",
       "    </tr>\n",
       "    <tr>\n",
       "      <th>min</th>\n",
       "      <td>5.473400e+04</td>\n",
       "      <td>7.069900e+04</td>\n",
       "      <td>500.000000</td>\n",
       "      <td>500.000000</td>\n",
       "      <td>0.000000</td>\n",
       "      <td>15.690000</td>\n",
       "      <td>4.000000e+03</td>\n",
       "      <td>0.000000</td>\n",
       "      <td>0.000000</td>\n",
       "      <td>0.000000</td>\n",
       "      <td>...</td>\n",
       "      <td>NaN</td>\n",
       "      <td>NaN</td>\n",
       "      <td>NaN</td>\n",
       "      <td>NaN</td>\n",
       "      <td>0.000000</td>\n",
       "      <td>0.0</td>\n",
       "      <td>NaN</td>\n",
       "      <td>NaN</td>\n",
       "      <td>NaN</td>\n",
       "      <td>NaN</td>\n",
       "    </tr>\n",
       "    <tr>\n",
       "      <th>25%</th>\n",
       "      <td>5.162210e+05</td>\n",
       "      <td>6.667800e+05</td>\n",
       "      <td>5500.000000</td>\n",
       "      <td>5400.000000</td>\n",
       "      <td>5000.000000</td>\n",
       "      <td>167.020000</td>\n",
       "      <td>4.040400e+04</td>\n",
       "      <td>8.170000</td>\n",
       "      <td>0.000000</td>\n",
       "      <td>0.000000</td>\n",
       "      <td>...</td>\n",
       "      <td>NaN</td>\n",
       "      <td>NaN</td>\n",
       "      <td>NaN</td>\n",
       "      <td>NaN</td>\n",
       "      <td>0.000000</td>\n",
       "      <td>0.0</td>\n",
       "      <td>NaN</td>\n",
       "      <td>NaN</td>\n",
       "      <td>NaN</td>\n",
       "      <td>NaN</td>\n",
       "    </tr>\n",
       "    <tr>\n",
       "      <th>50%</th>\n",
       "      <td>6.656650e+05</td>\n",
       "      <td>8.508120e+05</td>\n",
       "      <td>10000.000000</td>\n",
       "      <td>9600.000000</td>\n",
       "      <td>8975.000000</td>\n",
       "      <td>280.220000</td>\n",
       "      <td>5.900000e+04</td>\n",
       "      <td>13.400000</td>\n",
       "      <td>0.000000</td>\n",
       "      <td>1.000000</td>\n",
       "      <td>...</td>\n",
       "      <td>NaN</td>\n",
       "      <td>NaN</td>\n",
       "      <td>NaN</td>\n",
       "      <td>NaN</td>\n",
       "      <td>0.000000</td>\n",
       "      <td>0.0</td>\n",
       "      <td>NaN</td>\n",
       "      <td>NaN</td>\n",
       "      <td>NaN</td>\n",
       "      <td>NaN</td>\n",
       "    </tr>\n",
       "    <tr>\n",
       "      <th>75%</th>\n",
       "      <td>8.377550e+05</td>\n",
       "      <td>1.047339e+06</td>\n",
       "      <td>15000.000000</td>\n",
       "      <td>15000.000000</td>\n",
       "      <td>14400.000000</td>\n",
       "      <td>430.780000</td>\n",
       "      <td>8.230000e+04</td>\n",
       "      <td>18.600000</td>\n",
       "      <td>0.000000</td>\n",
       "      <td>1.000000</td>\n",
       "      <td>...</td>\n",
       "      <td>NaN</td>\n",
       "      <td>NaN</td>\n",
       "      <td>NaN</td>\n",
       "      <td>NaN</td>\n",
       "      <td>0.000000</td>\n",
       "      <td>0.0</td>\n",
       "      <td>NaN</td>\n",
       "      <td>NaN</td>\n",
       "      <td>NaN</td>\n",
       "      <td>NaN</td>\n",
       "    </tr>\n",
       "    <tr>\n",
       "      <th>max</th>\n",
       "      <td>1.077501e+06</td>\n",
       "      <td>1.314167e+06</td>\n",
       "      <td>35000.000000</td>\n",
       "      <td>35000.000000</td>\n",
       "      <td>35000.000000</td>\n",
       "      <td>1305.190000</td>\n",
       "      <td>6.000000e+06</td>\n",
       "      <td>29.990000</td>\n",
       "      <td>11.000000</td>\n",
       "      <td>8.000000</td>\n",
       "      <td>...</td>\n",
       "      <td>NaN</td>\n",
       "      <td>NaN</td>\n",
       "      <td>NaN</td>\n",
       "      <td>NaN</td>\n",
       "      <td>2.000000</td>\n",
       "      <td>0.0</td>\n",
       "      <td>NaN</td>\n",
       "      <td>NaN</td>\n",
       "      <td>NaN</td>\n",
       "      <td>NaN</td>\n",
       "    </tr>\n",
       "  </tbody>\n",
       "</table>\n",
       "<p>8 rows × 87 columns</p>\n",
       "</div>"
      ],
      "text/plain": [
       "                 id     member_id     loan_amnt   funded_amnt  \\\n",
       "count  3.971700e+04  3.971700e+04  39717.000000  39717.000000   \n",
       "mean   6.831319e+05  8.504636e+05  11219.443815  10947.713196   \n",
       "std    2.106941e+05  2.656783e+05   7456.670694   7187.238670   \n",
       "min    5.473400e+04  7.069900e+04    500.000000    500.000000   \n",
       "25%    5.162210e+05  6.667800e+05   5500.000000   5400.000000   \n",
       "50%    6.656650e+05  8.508120e+05  10000.000000   9600.000000   \n",
       "75%    8.377550e+05  1.047339e+06  15000.000000  15000.000000   \n",
       "max    1.077501e+06  1.314167e+06  35000.000000  35000.000000   \n",
       "\n",
       "       funded_amnt_inv   installment    annual_inc           dti  \\\n",
       "count     39717.000000  39717.000000  3.971700e+04  39717.000000   \n",
       "mean      10397.448868    324.561922  6.896893e+04     13.315130   \n",
       "std        7128.450439    208.874874  6.379377e+04      6.678594   \n",
       "min           0.000000     15.690000  4.000000e+03      0.000000   \n",
       "25%        5000.000000    167.020000  4.040400e+04      8.170000   \n",
       "50%        8975.000000    280.220000  5.900000e+04     13.400000   \n",
       "75%       14400.000000    430.780000  8.230000e+04     18.600000   \n",
       "max       35000.000000   1305.190000  6.000000e+06     29.990000   \n",
       "\n",
       "        delinq_2yrs  inq_last_6mths  ...  num_tl_90g_dpd_24m  \\\n",
       "count  39717.000000    39717.000000  ...                 0.0   \n",
       "mean       0.146512        0.869200  ...                 NaN   \n",
       "std        0.491812        1.070219  ...                 NaN   \n",
       "min        0.000000        0.000000  ...                 NaN   \n",
       "25%        0.000000        0.000000  ...                 NaN   \n",
       "50%        0.000000        1.000000  ...                 NaN   \n",
       "75%        0.000000        1.000000  ...                 NaN   \n",
       "max       11.000000        8.000000  ...                 NaN   \n",
       "\n",
       "       num_tl_op_past_12m  pct_tl_nvr_dlq  percent_bc_gt_75  \\\n",
       "count                 0.0             0.0               0.0   \n",
       "mean                  NaN             NaN               NaN   \n",
       "std                   NaN             NaN               NaN   \n",
       "min                   NaN             NaN               NaN   \n",
       "25%                   NaN             NaN               NaN   \n",
       "50%                   NaN             NaN               NaN   \n",
       "75%                   NaN             NaN               NaN   \n",
       "max                   NaN             NaN               NaN   \n",
       "\n",
       "       pub_rec_bankruptcies  tax_liens  tot_hi_cred_lim  total_bal_ex_mort  \\\n",
       "count          39020.000000    39678.0              0.0                0.0   \n",
       "mean               0.043260        0.0              NaN                NaN   \n",
       "std                0.204324        0.0              NaN                NaN   \n",
       "min                0.000000        0.0              NaN                NaN   \n",
       "25%                0.000000        0.0              NaN                NaN   \n",
       "50%                0.000000        0.0              NaN                NaN   \n",
       "75%                0.000000        0.0              NaN                NaN   \n",
       "max                2.000000        0.0              NaN                NaN   \n",
       "\n",
       "       total_bc_limit  total_il_high_credit_limit  \n",
       "count             0.0                         0.0  \n",
       "mean              NaN                         NaN  \n",
       "std               NaN                         NaN  \n",
       "min               NaN                         NaN  \n",
       "25%               NaN                         NaN  \n",
       "50%               NaN                         NaN  \n",
       "75%               NaN                         NaN  \n",
       "max               NaN                         NaN  \n",
       "\n",
       "[8 rows x 87 columns]"
      ]
     },
     "execution_count": 5,
     "metadata": {},
     "output_type": "execute_result"
    }
   ],
   "source": [
    "loan_data.describe()"
   ]
  },
  {
   "cell_type": "markdown",
   "id": "72f0655a",
   "metadata": {},
   "source": [
    "## Data Cleaning Process"
   ]
  },
  {
   "cell_type": "markdown",
   "id": "8b591aee",
   "metadata": {},
   "source": [
    "### Befor Starting any Data analysis we need to follow below Data Cleaning Process, which is required for any data analysis.\n",
    "\n",
    "    1. Fixing rows and column\n",
    "    2. Null Values/Missing Values\n",
    "    3. Standardizing values\n",
    "        a. Standardise units\n",
    "        b. Remove Outliers\n",
    "    4. invalid Values\n",
    "    5. filtering data\n",
    "    6. Visualizing Data"
   ]
  },
  {
   "cell_type": "markdown",
   "id": "f1d22064",
   "metadata": {},
   "source": [
    "##### As we have seen data set hase no any header and footer comment. so we dont need to do fixing row and column"
   ]
  },
  {
   "cell_type": "markdown",
   "id": "142fcf7e",
   "metadata": {},
   "source": [
    "### Lets find \"Null values\" in loan data set"
   ]
  },
  {
   "cell_type": "code",
   "execution_count": 6,
   "id": "dca9b142",
   "metadata": {},
   "outputs": [
    {
     "data": {
      "text/plain": [
       "id                                0\n",
       "member_id                         0\n",
       "loan_amnt                         0\n",
       "funded_amnt                       0\n",
       "funded_amnt_inv                   0\n",
       "                              ...  \n",
       "tax_liens                        39\n",
       "tot_hi_cred_lim               39717\n",
       "total_bal_ex_mort             39717\n",
       "total_bc_limit                39717\n",
       "total_il_high_credit_limit    39717\n",
       "Length: 111, dtype: int64"
      ]
     },
     "execution_count": 6,
     "metadata": {},
     "output_type": "execute_result"
    }
   ],
   "source": [
    "loan_data.isnull().sum()\n"
   ]
  },
  {
   "cell_type": "markdown",
   "id": "08ea54e5",
   "metadata": {},
   "source": [
    "### We found there are a lots of columns with \"all null values\". Let's first remove those columns"
   ]
  },
  {
   "cell_type": "code",
   "execution_count": 7,
   "id": "ee46bd0c",
   "metadata": {},
   "outputs": [
    {
     "data": {
      "text/html": [
       "<div>\n",
       "<style scoped>\n",
       "    .dataframe tbody tr th:only-of-type {\n",
       "        vertical-align: middle;\n",
       "    }\n",
       "\n",
       "    .dataframe tbody tr th {\n",
       "        vertical-align: top;\n",
       "    }\n",
       "\n",
       "    .dataframe thead th {\n",
       "        text-align: right;\n",
       "    }\n",
       "</style>\n",
       "<table border=\"1\" class=\"dataframe\">\n",
       "  <thead>\n",
       "    <tr style=\"text-align: right;\">\n",
       "      <th></th>\n",
       "      <th>id</th>\n",
       "      <th>member_id</th>\n",
       "      <th>loan_amnt</th>\n",
       "      <th>funded_amnt</th>\n",
       "      <th>funded_amnt_inv</th>\n",
       "      <th>term</th>\n",
       "      <th>int_rate</th>\n",
       "      <th>installment</th>\n",
       "      <th>grade</th>\n",
       "      <th>sub_grade</th>\n",
       "      <th>...</th>\n",
       "      <th>next_pymnt_d</th>\n",
       "      <th>last_credit_pull_d</th>\n",
       "      <th>collections_12_mths_ex_med</th>\n",
       "      <th>policy_code</th>\n",
       "      <th>application_type</th>\n",
       "      <th>acc_now_delinq</th>\n",
       "      <th>chargeoff_within_12_mths</th>\n",
       "      <th>delinq_amnt</th>\n",
       "      <th>pub_rec_bankruptcies</th>\n",
       "      <th>tax_liens</th>\n",
       "    </tr>\n",
       "  </thead>\n",
       "  <tbody>\n",
       "    <tr>\n",
       "      <th>0</th>\n",
       "      <td>1077501</td>\n",
       "      <td>1296599</td>\n",
       "      <td>5000</td>\n",
       "      <td>5000</td>\n",
       "      <td>4975.0</td>\n",
       "      <td>36 months</td>\n",
       "      <td>10.65%</td>\n",
       "      <td>162.87</td>\n",
       "      <td>B</td>\n",
       "      <td>B2</td>\n",
       "      <td>...</td>\n",
       "      <td>NaN</td>\n",
       "      <td>May-16</td>\n",
       "      <td>0.0</td>\n",
       "      <td>1</td>\n",
       "      <td>INDIVIDUAL</td>\n",
       "      <td>0</td>\n",
       "      <td>0.0</td>\n",
       "      <td>0</td>\n",
       "      <td>0.0</td>\n",
       "      <td>0.0</td>\n",
       "    </tr>\n",
       "    <tr>\n",
       "      <th>1</th>\n",
       "      <td>1077430</td>\n",
       "      <td>1314167</td>\n",
       "      <td>2500</td>\n",
       "      <td>2500</td>\n",
       "      <td>2500.0</td>\n",
       "      <td>60 months</td>\n",
       "      <td>15.27%</td>\n",
       "      <td>59.83</td>\n",
       "      <td>C</td>\n",
       "      <td>C4</td>\n",
       "      <td>...</td>\n",
       "      <td>NaN</td>\n",
       "      <td>Sep-13</td>\n",
       "      <td>0.0</td>\n",
       "      <td>1</td>\n",
       "      <td>INDIVIDUAL</td>\n",
       "      <td>0</td>\n",
       "      <td>0.0</td>\n",
       "      <td>0</td>\n",
       "      <td>0.0</td>\n",
       "      <td>0.0</td>\n",
       "    </tr>\n",
       "    <tr>\n",
       "      <th>2</th>\n",
       "      <td>1077175</td>\n",
       "      <td>1313524</td>\n",
       "      <td>2400</td>\n",
       "      <td>2400</td>\n",
       "      <td>2400.0</td>\n",
       "      <td>36 months</td>\n",
       "      <td>15.96%</td>\n",
       "      <td>84.33</td>\n",
       "      <td>C</td>\n",
       "      <td>C5</td>\n",
       "      <td>...</td>\n",
       "      <td>NaN</td>\n",
       "      <td>May-16</td>\n",
       "      <td>0.0</td>\n",
       "      <td>1</td>\n",
       "      <td>INDIVIDUAL</td>\n",
       "      <td>0</td>\n",
       "      <td>0.0</td>\n",
       "      <td>0</td>\n",
       "      <td>0.0</td>\n",
       "      <td>0.0</td>\n",
       "    </tr>\n",
       "    <tr>\n",
       "      <th>3</th>\n",
       "      <td>1076863</td>\n",
       "      <td>1277178</td>\n",
       "      <td>10000</td>\n",
       "      <td>10000</td>\n",
       "      <td>10000.0</td>\n",
       "      <td>36 months</td>\n",
       "      <td>13.49%</td>\n",
       "      <td>339.31</td>\n",
       "      <td>C</td>\n",
       "      <td>C1</td>\n",
       "      <td>...</td>\n",
       "      <td>NaN</td>\n",
       "      <td>Apr-16</td>\n",
       "      <td>0.0</td>\n",
       "      <td>1</td>\n",
       "      <td>INDIVIDUAL</td>\n",
       "      <td>0</td>\n",
       "      <td>0.0</td>\n",
       "      <td>0</td>\n",
       "      <td>0.0</td>\n",
       "      <td>0.0</td>\n",
       "    </tr>\n",
       "    <tr>\n",
       "      <th>4</th>\n",
       "      <td>1075358</td>\n",
       "      <td>1311748</td>\n",
       "      <td>3000</td>\n",
       "      <td>3000</td>\n",
       "      <td>3000.0</td>\n",
       "      <td>60 months</td>\n",
       "      <td>12.69%</td>\n",
       "      <td>67.79</td>\n",
       "      <td>B</td>\n",
       "      <td>B5</td>\n",
       "      <td>...</td>\n",
       "      <td>Jun-16</td>\n",
       "      <td>May-16</td>\n",
       "      <td>0.0</td>\n",
       "      <td>1</td>\n",
       "      <td>INDIVIDUAL</td>\n",
       "      <td>0</td>\n",
       "      <td>0.0</td>\n",
       "      <td>0</td>\n",
       "      <td>0.0</td>\n",
       "      <td>0.0</td>\n",
       "    </tr>\n",
       "  </tbody>\n",
       "</table>\n",
       "<p>5 rows × 57 columns</p>\n",
       "</div>"
      ],
      "text/plain": [
       "        id  member_id  loan_amnt  funded_amnt  funded_amnt_inv        term  \\\n",
       "0  1077501    1296599       5000         5000           4975.0   36 months   \n",
       "1  1077430    1314167       2500         2500           2500.0   60 months   \n",
       "2  1077175    1313524       2400         2400           2400.0   36 months   \n",
       "3  1076863    1277178      10000        10000          10000.0   36 months   \n",
       "4  1075358    1311748       3000         3000           3000.0   60 months   \n",
       "\n",
       "  int_rate  installment grade sub_grade  ... next_pymnt_d last_credit_pull_d  \\\n",
       "0   10.65%       162.87     B        B2  ...          NaN             May-16   \n",
       "1   15.27%        59.83     C        C4  ...          NaN             Sep-13   \n",
       "2   15.96%        84.33     C        C5  ...          NaN             May-16   \n",
       "3   13.49%       339.31     C        C1  ...          NaN             Apr-16   \n",
       "4   12.69%        67.79     B        B5  ...       Jun-16             May-16   \n",
       "\n",
       "  collections_12_mths_ex_med  policy_code application_type acc_now_delinq  \\\n",
       "0                        0.0            1       INDIVIDUAL              0   \n",
       "1                        0.0            1       INDIVIDUAL              0   \n",
       "2                        0.0            1       INDIVIDUAL              0   \n",
       "3                        0.0            1       INDIVIDUAL              0   \n",
       "4                        0.0            1       INDIVIDUAL              0   \n",
       "\n",
       "  chargeoff_within_12_mths delinq_amnt pub_rec_bankruptcies tax_liens  \n",
       "0                      0.0           0                  0.0       0.0  \n",
       "1                      0.0           0                  0.0       0.0  \n",
       "2                      0.0           0                  0.0       0.0  \n",
       "3                      0.0           0                  0.0       0.0  \n",
       "4                      0.0           0                  0.0       0.0  \n",
       "\n",
       "[5 rows x 57 columns]"
      ]
     },
     "execution_count": 7,
     "metadata": {},
     "output_type": "execute_result"
    }
   ],
   "source": [
    "loan_data.dropna(axis=1,how='all',inplace=True)\n",
    "loan_data.head()"
   ]
  },
  {
   "cell_type": "markdown",
   "id": "01ee3288",
   "metadata": {},
   "source": [
    "### Let us see if there are any columns with \"unique or single\" values in them."
   ]
  },
  {
   "cell_type": "code",
   "execution_count": 8,
   "id": "3ddeeb8c",
   "metadata": {},
   "outputs": [
    {
     "name": "stdout",
     "output_type": "stream",
     "text": [
      "id                            39717\n",
      "member_id                     39717\n",
      "loan_amnt                       885\n",
      "funded_amnt                    1041\n",
      "funded_amnt_inv                8205\n",
      "term                              2\n",
      "int_rate                        371\n",
      "installment                   15383\n",
      "grade                             7\n",
      "sub_grade                        35\n",
      "emp_title                     28820\n",
      "emp_length                       11\n",
      "home_ownership                    5\n",
      "annual_inc                     5318\n",
      "verification_status               3\n",
      "issue_d                          55\n",
      "loan_status                       3\n",
      "pymnt_plan                        1\n",
      "url                           39717\n",
      "desc                          26527\n",
      "purpose                          14\n",
      "title                         19615\n",
      "zip_code                        823\n",
      "addr_state                       50\n",
      "dti                            2868\n",
      "delinq_2yrs                      11\n",
      "earliest_cr_line                526\n",
      "inq_last_6mths                    9\n",
      "mths_since_last_delinq           95\n",
      "mths_since_last_record          111\n",
      "open_acc                         40\n",
      "pub_rec                           5\n",
      "revol_bal                     21711\n",
      "revol_util                     1089\n",
      "total_acc                        82\n",
      "initial_list_status               1\n",
      "out_prncp                      1137\n",
      "out_prncp_inv                  1138\n",
      "total_pymnt                   37850\n",
      "total_pymnt_inv               37518\n",
      "total_rec_prncp                7976\n",
      "total_rec_int                 35148\n",
      "total_rec_late_fee             1356\n",
      "recoveries                     4040\n",
      "collection_recovery_fee        2616\n",
      "last_pymnt_d                    101\n",
      "last_pymnt_amnt               34930\n",
      "next_pymnt_d                      2\n",
      "last_credit_pull_d              106\n",
      "collections_12_mths_ex_med        1\n",
      "policy_code                       1\n",
      "application_type                  1\n",
      "acc_now_delinq                    1\n",
      "chargeoff_within_12_mths          1\n",
      "delinq_amnt                       1\n",
      "pub_rec_bankruptcies              3\n",
      "tax_liens                         1\n",
      "dtype: int64\n"
     ]
    }
   ],
   "source": [
    "get_unique_columns=loan_data.nunique()\n",
    "print(get_unique_columns)"
   ]
  },
  {
   "cell_type": "markdown",
   "id": "a004c777",
   "metadata": {},
   "source": [
    "##### we can see  few columns with single values, these column will not effect in our analysis.\n",
    "    "
   ]
  },
  {
   "cell_type": "code",
   "execution_count": 9,
   "id": "1413daaf",
   "metadata": {},
   "outputs": [
    {
     "data": {
      "text/plain": [
       "Index(['pymnt_plan', 'initial_list_status', 'collections_12_mths_ex_med',\n",
       "       'policy_code', 'application_type', 'acc_now_delinq',\n",
       "       'chargeoff_within_12_mths', 'delinq_amnt', 'tax_liens'],\n",
       "      dtype='object')"
      ]
     },
     "execution_count": 9,
     "metadata": {},
     "output_type": "execute_result"
    }
   ],
   "source": [
    "#### Storing unique or single value columns to new data frame to drop these column.\n",
    "store_unique_columns=get_unique_columns[get_unique_columns.values==1]\n",
    "store_unique_columns.index\n"
   ]
  },
  {
   "cell_type": "markdown",
   "id": "d1c68098",
   "metadata": {},
   "source": [
    "##### Lets drop these single or unique value columns  as they will not use for our analysis"
   ]
  },
  {
   "cell_type": "code",
   "execution_count": 10,
   "id": "69166a25",
   "metadata": {},
   "outputs": [
    {
     "data": {
      "text/plain": [
       "(39717, 48)"
      ]
     },
     "execution_count": 10,
     "metadata": {},
     "output_type": "execute_result"
    }
   ],
   "source": [
    "loan_data.drop(columns=list(store_unique_columns.index),inplace=True)\n",
    "loan_data.shape"
   ]
  },
  {
   "cell_type": "markdown",
   "id": "1d55712e",
   "metadata": {},
   "source": [
    "#### There are some column which are not significant for loan data analysis lets remove them."
   ]
  },
  {
   "cell_type": "code",
   "execution_count": 11,
   "id": "03724667",
   "metadata": {},
   "outputs": [
    {
     "data": {
      "text/plain": [
       "(39717, 21)"
      ]
     },
     "execution_count": 11,
     "metadata": {},
     "output_type": "execute_result"
    }
   ],
   "source": [
    "del_cols = [\"id\",\"member_id\",\"url\",\"zip_code\",\"out_prncp\",\"out_prncp_inv\",\"total_pymnt\",\"total_pymnt_inv\",\n",
    "            \"total_rec_prncp\",\"total_rec_int\",\"total_rec_late_fee\",\"recoveries\",\"collection_recovery_fee\",\n",
    "            \"last_pymnt_d\",\"last_pymnt_amnt\",\"last_credit_pull_d\",\"desc\",\"title\",\"emp_title\",\"funded_amnt\",\n",
    "            \"delinq_2yrs\",\"revol_bal\",\"mths_since_last_record\",\"addr_state\",\n",
    "           \"next_pymnt_d\",\"pub_rec_bankruptcies\",\"mths_since_last_delinq\"]\n",
    "loan_data.drop(del_cols,axis = 1,inplace=True)\n",
    "loan_data.shape\n"
   ]
  },
  {
   "cell_type": "code",
   "execution_count": 12,
   "id": "5c58b83d",
   "metadata": {},
   "outputs": [
    {
     "data": {
      "text/plain": [
       "Index(['loan_amnt', 'funded_amnt_inv', 'term', 'int_rate', 'installment',\n",
       "       'grade', 'sub_grade', 'emp_length', 'home_ownership', 'annual_inc',\n",
       "       'verification_status', 'issue_d', 'loan_status', 'purpose', 'dti',\n",
       "       'earliest_cr_line', 'inq_last_6mths', 'open_acc', 'pub_rec',\n",
       "       'revol_util', 'total_acc'],\n",
       "      dtype='object')"
      ]
     },
     "execution_count": 12,
     "metadata": {},
     "output_type": "execute_result"
    }
   ],
   "source": [
    "loan_data.columns"
   ]
  },
  {
   "cell_type": "markdown",
   "id": "58aa70bc",
   "metadata": {},
   "source": [
    "#### There are three Loan status \"Fully Paid\",\"Current\",\"Charged Off\"  as we know that \"Current\" Loan Status is not giving any info for our analysis for approving or rejecting application, so we can drop this from data set."
   ]
  },
  {
   "cell_type": "code",
   "execution_count": 13,
   "id": "d9e41715",
   "metadata": {},
   "outputs": [
    {
     "data": {
      "text/plain": [
       "array(['Fully Paid', 'Charged Off'], dtype=object)"
      ]
     },
     "execution_count": 13,
     "metadata": {},
     "output_type": "execute_result"
    }
   ],
   "source": [
    "loan_data = loan_data[loan_data.loan_status != \"Current\"]\n",
    "loan_data.loan_status.unique()"
   ]
  },
  {
   "cell_type": "markdown",
   "id": "eedc3f2c",
   "metadata": {},
   "source": [
    "#### After removing Null values & insignificant columns, we are again checking for missing values."
   ]
  },
  {
   "cell_type": "code",
   "execution_count": 14,
   "id": "2093d68c",
   "metadata": {},
   "outputs": [
    {
     "data": {
      "text/plain": [
       "loan_amnt              0.000000\n",
       "funded_amnt_inv        0.000000\n",
       "term                   0.000000\n",
       "int_rate               0.000000\n",
       "installment            0.000000\n",
       "grade                  0.000000\n",
       "sub_grade              0.000000\n",
       "emp_length             2.677761\n",
       "home_ownership         0.000000\n",
       "annual_inc             0.000000\n",
       "verification_status    0.000000\n",
       "issue_d                0.000000\n",
       "loan_status            0.000000\n",
       "purpose                0.000000\n",
       "dti                    0.000000\n",
       "earliest_cr_line       0.000000\n",
       "inq_last_6mths         0.000000\n",
       "open_acc               0.000000\n",
       "pub_rec                0.000000\n",
       "revol_util             0.129611\n",
       "total_acc              0.000000\n",
       "dtype: float64"
      ]
     },
     "execution_count": 14,
     "metadata": {},
     "output_type": "execute_result"
    }
   ],
   "source": [
    "(loan_data.isna().sum()/len(loan_data.index))*100"
   ]
  },
  {
   "cell_type": "markdown",
   "id": "f7a46ba4",
   "metadata": {},
   "source": [
    "#### We can see columns \"emp_length\" & \"revol_util\" has  missing values .\n",
    "  \n",
    "    To handle missing values of emp_length and revol_util\n",
    "    Let's check the data type of each columns."
   ]
  },
  {
   "cell_type": "code",
   "execution_count": 15,
   "id": "15763f83",
   "metadata": {},
   "outputs": [
    {
     "name": "stdout",
     "output_type": "stream",
     "text": [
      "<class 'pandas.core.frame.DataFrame'>\n",
      "Int64Index: 38577 entries, 0 to 39716\n",
      "Data columns (total 21 columns):\n",
      " #   Column               Non-Null Count  Dtype  \n",
      "---  ------               --------------  -----  \n",
      " 0   loan_amnt            38577 non-null  int64  \n",
      " 1   funded_amnt_inv      38577 non-null  float64\n",
      " 2   term                 38577 non-null  object \n",
      " 3   int_rate             38577 non-null  object \n",
      " 4   installment          38577 non-null  float64\n",
      " 5   grade                38577 non-null  object \n",
      " 6   sub_grade            38577 non-null  object \n",
      " 7   emp_length           37544 non-null  object \n",
      " 8   home_ownership       38577 non-null  object \n",
      " 9   annual_inc           38577 non-null  float64\n",
      " 10  verification_status  38577 non-null  object \n",
      " 11  issue_d              38577 non-null  object \n",
      " 12  loan_status          38577 non-null  object \n",
      " 13  purpose              38577 non-null  object \n",
      " 14  dti                  38577 non-null  float64\n",
      " 15  earliest_cr_line     38577 non-null  object \n",
      " 16  inq_last_6mths       38577 non-null  int64  \n",
      " 17  open_acc             38577 non-null  int64  \n",
      " 18  pub_rec              38577 non-null  int64  \n",
      " 19  revol_util           38527 non-null  object \n",
      " 20  total_acc            38577 non-null  int64  \n",
      "dtypes: float64(4), int64(5), object(12)\n",
      "memory usage: 6.5+ MB\n"
     ]
    }
   ],
   "source": [
    "loan_data.info()"
   ]
  },
  {
   "cell_type": "markdown",
   "id": "12fa55de",
   "metadata": {},
   "source": [
    "#### We can see above missing values of emp_length and revol_util is very less, so we can replace missing values in these two columns by 0. So replacing missing values by 0 of these two columns will not much effect our analysys."
   ]
  },
  {
   "cell_type": "code",
   "execution_count": 16,
   "id": "f1a00e13",
   "metadata": {},
   "outputs": [
    {
     "data": {
      "text/plain": [
       "1033"
      ]
     },
     "execution_count": 16,
     "metadata": {},
     "output_type": "execute_result"
    }
   ],
   "source": [
    "loan_data.emp_length.fillna(0)\n",
    "loan_data.emp_length.isna().sum()"
   ]
  },
  {
   "cell_type": "code",
   "execution_count": 17,
   "id": "88d3fd80",
   "metadata": {},
   "outputs": [
    {
     "data": {
      "text/plain": [
       "50"
      ]
     },
     "execution_count": 17,
     "metadata": {},
     "output_type": "execute_result"
    }
   ],
   "source": [
    "loan_data.revol_util.fillna(0)\n",
    "loan_data.revol_util.isna().sum()"
   ]
  },
  {
   "cell_type": "markdown",
   "id": "33bbf1c0",
   "metadata": {},
   "source": [
    "##### Now We have Clean All the Unwanted data,missing values,insignificant columns & null values columns"
   ]
  },
  {
   "cell_type": "code",
   "execution_count": 18,
   "id": "073b7293",
   "metadata": {},
   "outputs": [
    {
     "data": {
      "text/html": [
       "<div>\n",
       "<style scoped>\n",
       "    .dataframe tbody tr th:only-of-type {\n",
       "        vertical-align: middle;\n",
       "    }\n",
       "\n",
       "    .dataframe tbody tr th {\n",
       "        vertical-align: top;\n",
       "    }\n",
       "\n",
       "    .dataframe thead th {\n",
       "        text-align: right;\n",
       "    }\n",
       "</style>\n",
       "<table border=\"1\" class=\"dataframe\">\n",
       "  <thead>\n",
       "    <tr style=\"text-align: right;\">\n",
       "      <th></th>\n",
       "      <th>loan_amnt</th>\n",
       "      <th>funded_amnt_inv</th>\n",
       "      <th>term</th>\n",
       "      <th>int_rate</th>\n",
       "      <th>installment</th>\n",
       "      <th>grade</th>\n",
       "      <th>sub_grade</th>\n",
       "      <th>emp_length</th>\n",
       "      <th>home_ownership</th>\n",
       "      <th>annual_inc</th>\n",
       "      <th>...</th>\n",
       "      <th>issue_d</th>\n",
       "      <th>loan_status</th>\n",
       "      <th>purpose</th>\n",
       "      <th>dti</th>\n",
       "      <th>earliest_cr_line</th>\n",
       "      <th>inq_last_6mths</th>\n",
       "      <th>open_acc</th>\n",
       "      <th>pub_rec</th>\n",
       "      <th>revol_util</th>\n",
       "      <th>total_acc</th>\n",
       "    </tr>\n",
       "  </thead>\n",
       "  <tbody>\n",
       "    <tr>\n",
       "      <th>0</th>\n",
       "      <td>5000</td>\n",
       "      <td>4975.0</td>\n",
       "      <td>36 months</td>\n",
       "      <td>10.65%</td>\n",
       "      <td>162.87</td>\n",
       "      <td>B</td>\n",
       "      <td>B2</td>\n",
       "      <td>10+ years</td>\n",
       "      <td>RENT</td>\n",
       "      <td>24000.0</td>\n",
       "      <td>...</td>\n",
       "      <td>Dec-11</td>\n",
       "      <td>Fully Paid</td>\n",
       "      <td>credit_card</td>\n",
       "      <td>27.65</td>\n",
       "      <td>Jan-85</td>\n",
       "      <td>1</td>\n",
       "      <td>3</td>\n",
       "      <td>0</td>\n",
       "      <td>83.70%</td>\n",
       "      <td>9</td>\n",
       "    </tr>\n",
       "    <tr>\n",
       "      <th>1</th>\n",
       "      <td>2500</td>\n",
       "      <td>2500.0</td>\n",
       "      <td>60 months</td>\n",
       "      <td>15.27%</td>\n",
       "      <td>59.83</td>\n",
       "      <td>C</td>\n",
       "      <td>C4</td>\n",
       "      <td>&lt; 1 year</td>\n",
       "      <td>RENT</td>\n",
       "      <td>30000.0</td>\n",
       "      <td>...</td>\n",
       "      <td>Dec-11</td>\n",
       "      <td>Charged Off</td>\n",
       "      <td>car</td>\n",
       "      <td>1.00</td>\n",
       "      <td>Apr-99</td>\n",
       "      <td>5</td>\n",
       "      <td>3</td>\n",
       "      <td>0</td>\n",
       "      <td>9.40%</td>\n",
       "      <td>4</td>\n",
       "    </tr>\n",
       "    <tr>\n",
       "      <th>2</th>\n",
       "      <td>2400</td>\n",
       "      <td>2400.0</td>\n",
       "      <td>36 months</td>\n",
       "      <td>15.96%</td>\n",
       "      <td>84.33</td>\n",
       "      <td>C</td>\n",
       "      <td>C5</td>\n",
       "      <td>10+ years</td>\n",
       "      <td>RENT</td>\n",
       "      <td>12252.0</td>\n",
       "      <td>...</td>\n",
       "      <td>Dec-11</td>\n",
       "      <td>Fully Paid</td>\n",
       "      <td>small_business</td>\n",
       "      <td>8.72</td>\n",
       "      <td>Nov-01</td>\n",
       "      <td>2</td>\n",
       "      <td>2</td>\n",
       "      <td>0</td>\n",
       "      <td>98.50%</td>\n",
       "      <td>10</td>\n",
       "    </tr>\n",
       "    <tr>\n",
       "      <th>3</th>\n",
       "      <td>10000</td>\n",
       "      <td>10000.0</td>\n",
       "      <td>36 months</td>\n",
       "      <td>13.49%</td>\n",
       "      <td>339.31</td>\n",
       "      <td>C</td>\n",
       "      <td>C1</td>\n",
       "      <td>10+ years</td>\n",
       "      <td>RENT</td>\n",
       "      <td>49200.0</td>\n",
       "      <td>...</td>\n",
       "      <td>Dec-11</td>\n",
       "      <td>Fully Paid</td>\n",
       "      <td>other</td>\n",
       "      <td>20.00</td>\n",
       "      <td>Feb-96</td>\n",
       "      <td>1</td>\n",
       "      <td>10</td>\n",
       "      <td>0</td>\n",
       "      <td>21%</td>\n",
       "      <td>37</td>\n",
       "    </tr>\n",
       "    <tr>\n",
       "      <th>5</th>\n",
       "      <td>5000</td>\n",
       "      <td>5000.0</td>\n",
       "      <td>36 months</td>\n",
       "      <td>7.90%</td>\n",
       "      <td>156.46</td>\n",
       "      <td>A</td>\n",
       "      <td>A4</td>\n",
       "      <td>3 years</td>\n",
       "      <td>RENT</td>\n",
       "      <td>36000.0</td>\n",
       "      <td>...</td>\n",
       "      <td>Dec-11</td>\n",
       "      <td>Fully Paid</td>\n",
       "      <td>wedding</td>\n",
       "      <td>11.20</td>\n",
       "      <td>Nov-04</td>\n",
       "      <td>3</td>\n",
       "      <td>9</td>\n",
       "      <td>0</td>\n",
       "      <td>28.30%</td>\n",
       "      <td>12</td>\n",
       "    </tr>\n",
       "  </tbody>\n",
       "</table>\n",
       "<p>5 rows × 21 columns</p>\n",
       "</div>"
      ],
      "text/plain": [
       "   loan_amnt  funded_amnt_inv        term int_rate  installment grade  \\\n",
       "0       5000           4975.0   36 months   10.65%       162.87     B   \n",
       "1       2500           2500.0   60 months   15.27%        59.83     C   \n",
       "2       2400           2400.0   36 months   15.96%        84.33     C   \n",
       "3      10000          10000.0   36 months   13.49%       339.31     C   \n",
       "5       5000           5000.0   36 months    7.90%       156.46     A   \n",
       "\n",
       "  sub_grade emp_length home_ownership  annual_inc  ... issue_d  loan_status  \\\n",
       "0        B2  10+ years           RENT     24000.0  ...  Dec-11   Fully Paid   \n",
       "1        C4   < 1 year           RENT     30000.0  ...  Dec-11  Charged Off   \n",
       "2        C5  10+ years           RENT     12252.0  ...  Dec-11   Fully Paid   \n",
       "3        C1  10+ years           RENT     49200.0  ...  Dec-11   Fully Paid   \n",
       "5        A4    3 years           RENT     36000.0  ...  Dec-11   Fully Paid   \n",
       "\n",
       "          purpose    dti  earliest_cr_line inq_last_6mths  open_acc  pub_rec  \\\n",
       "0     credit_card  27.65            Jan-85              1         3        0   \n",
       "1             car   1.00            Apr-99              5         3        0   \n",
       "2  small_business   8.72            Nov-01              2         2        0   \n",
       "3           other  20.00            Feb-96              1        10        0   \n",
       "5         wedding  11.20            Nov-04              3         9        0   \n",
       "\n",
       "   revol_util total_acc  \n",
       "0      83.70%         9  \n",
       "1       9.40%         4  \n",
       "2      98.50%        10  \n",
       "3         21%        37  \n",
       "5      28.30%        12  \n",
       "\n",
       "[5 rows x 21 columns]"
      ]
     },
     "execution_count": 18,
     "metadata": {},
     "output_type": "execute_result"
    }
   ],
   "source": [
    "loan_data.head()"
   ]
  },
  {
   "cell_type": "markdown",
   "id": "306d5c82",
   "metadata": {},
   "source": [
    "##  Standardising Values"
   ]
  },
  {
   "cell_type": "markdown",
   "id": "c3b0485f",
   "metadata": {},
   "source": [
    "### Standardise units\n",
    "    1. \"int_rate\" described as an object column, it has continous values. \n",
    "    2. \"revol_util\" described as an object column, it has continous values.\n",
    "    3. \"emp_length\" contains < 1 year 10+ years we assume < as 0 and +  10 to make continous values."
   ]
  },
  {
   "cell_type": "code",
   "execution_count": 19,
   "id": "7b079108",
   "metadata": {},
   "outputs": [],
   "source": [
    "loan_data.int_rate=pd.to_numeric(loan_data.int_rate.str[:-1])"
   ]
  },
  {
   "cell_type": "code",
   "execution_count": 20,
   "id": "a6722b0e",
   "metadata": {},
   "outputs": [],
   "source": [
    "loan_data.revol_util = pd.to_numeric(loan_data.revol_util.str[:-1])"
   ]
  },
  {
   "cell_type": "code",
   "execution_count": 21,
   "id": "beaec68b",
   "metadata": {},
   "outputs": [],
   "source": [
    "loan_data.emp_length = pd.to_numeric(loan_data.emp_length.apply(lambda x: 0 if \"<\" in str(x) else (x.split('+')[0] if \"+\" in str(x) else (x.split('years')[0] if (\"years\") in str(x) else(x.split('year')[0] if (\"year\") in str(x) else x)))))\n"
   ]
  },
  {
   "cell_type": "code",
   "execution_count": 22,
   "id": "86a3d33e",
   "metadata": {},
   "outputs": [
    {
     "data": {
      "text/html": [
       "<div>\n",
       "<style scoped>\n",
       "    .dataframe tbody tr th:only-of-type {\n",
       "        vertical-align: middle;\n",
       "    }\n",
       "\n",
       "    .dataframe tbody tr th {\n",
       "        vertical-align: top;\n",
       "    }\n",
       "\n",
       "    .dataframe thead th {\n",
       "        text-align: right;\n",
       "    }\n",
       "</style>\n",
       "<table border=\"1\" class=\"dataframe\">\n",
       "  <thead>\n",
       "    <tr style=\"text-align: right;\">\n",
       "      <th></th>\n",
       "      <th>loan_amnt</th>\n",
       "      <th>funded_amnt_inv</th>\n",
       "      <th>term</th>\n",
       "      <th>int_rate</th>\n",
       "      <th>installment</th>\n",
       "      <th>grade</th>\n",
       "      <th>sub_grade</th>\n",
       "      <th>emp_length</th>\n",
       "      <th>home_ownership</th>\n",
       "      <th>annual_inc</th>\n",
       "      <th>...</th>\n",
       "      <th>issue_d</th>\n",
       "      <th>loan_status</th>\n",
       "      <th>purpose</th>\n",
       "      <th>dti</th>\n",
       "      <th>earliest_cr_line</th>\n",
       "      <th>inq_last_6mths</th>\n",
       "      <th>open_acc</th>\n",
       "      <th>pub_rec</th>\n",
       "      <th>revol_util</th>\n",
       "      <th>total_acc</th>\n",
       "    </tr>\n",
       "  </thead>\n",
       "  <tbody>\n",
       "    <tr>\n",
       "      <th>0</th>\n",
       "      <td>5000</td>\n",
       "      <td>4975.0</td>\n",
       "      <td>36 months</td>\n",
       "      <td>10.65</td>\n",
       "      <td>162.87</td>\n",
       "      <td>B</td>\n",
       "      <td>B2</td>\n",
       "      <td>10.0</td>\n",
       "      <td>RENT</td>\n",
       "      <td>24000.0</td>\n",
       "      <td>...</td>\n",
       "      <td>Dec-11</td>\n",
       "      <td>Fully Paid</td>\n",
       "      <td>credit_card</td>\n",
       "      <td>27.65</td>\n",
       "      <td>Jan-85</td>\n",
       "      <td>1</td>\n",
       "      <td>3</td>\n",
       "      <td>0</td>\n",
       "      <td>83.7</td>\n",
       "      <td>9</td>\n",
       "    </tr>\n",
       "    <tr>\n",
       "      <th>1</th>\n",
       "      <td>2500</td>\n",
       "      <td>2500.0</td>\n",
       "      <td>60 months</td>\n",
       "      <td>15.27</td>\n",
       "      <td>59.83</td>\n",
       "      <td>C</td>\n",
       "      <td>C4</td>\n",
       "      <td>0.0</td>\n",
       "      <td>RENT</td>\n",
       "      <td>30000.0</td>\n",
       "      <td>...</td>\n",
       "      <td>Dec-11</td>\n",
       "      <td>Charged Off</td>\n",
       "      <td>car</td>\n",
       "      <td>1.00</td>\n",
       "      <td>Apr-99</td>\n",
       "      <td>5</td>\n",
       "      <td>3</td>\n",
       "      <td>0</td>\n",
       "      <td>9.4</td>\n",
       "      <td>4</td>\n",
       "    </tr>\n",
       "    <tr>\n",
       "      <th>2</th>\n",
       "      <td>2400</td>\n",
       "      <td>2400.0</td>\n",
       "      <td>36 months</td>\n",
       "      <td>15.96</td>\n",
       "      <td>84.33</td>\n",
       "      <td>C</td>\n",
       "      <td>C5</td>\n",
       "      <td>10.0</td>\n",
       "      <td>RENT</td>\n",
       "      <td>12252.0</td>\n",
       "      <td>...</td>\n",
       "      <td>Dec-11</td>\n",
       "      <td>Fully Paid</td>\n",
       "      <td>small_business</td>\n",
       "      <td>8.72</td>\n",
       "      <td>Nov-01</td>\n",
       "      <td>2</td>\n",
       "      <td>2</td>\n",
       "      <td>0</td>\n",
       "      <td>98.5</td>\n",
       "      <td>10</td>\n",
       "    </tr>\n",
       "    <tr>\n",
       "      <th>3</th>\n",
       "      <td>10000</td>\n",
       "      <td>10000.0</td>\n",
       "      <td>36 months</td>\n",
       "      <td>13.49</td>\n",
       "      <td>339.31</td>\n",
       "      <td>C</td>\n",
       "      <td>C1</td>\n",
       "      <td>10.0</td>\n",
       "      <td>RENT</td>\n",
       "      <td>49200.0</td>\n",
       "      <td>...</td>\n",
       "      <td>Dec-11</td>\n",
       "      <td>Fully Paid</td>\n",
       "      <td>other</td>\n",
       "      <td>20.00</td>\n",
       "      <td>Feb-96</td>\n",
       "      <td>1</td>\n",
       "      <td>10</td>\n",
       "      <td>0</td>\n",
       "      <td>21.0</td>\n",
       "      <td>37</td>\n",
       "    </tr>\n",
       "    <tr>\n",
       "      <th>5</th>\n",
       "      <td>5000</td>\n",
       "      <td>5000.0</td>\n",
       "      <td>36 months</td>\n",
       "      <td>7.90</td>\n",
       "      <td>156.46</td>\n",
       "      <td>A</td>\n",
       "      <td>A4</td>\n",
       "      <td>3.0</td>\n",
       "      <td>RENT</td>\n",
       "      <td>36000.0</td>\n",
       "      <td>...</td>\n",
       "      <td>Dec-11</td>\n",
       "      <td>Fully Paid</td>\n",
       "      <td>wedding</td>\n",
       "      <td>11.20</td>\n",
       "      <td>Nov-04</td>\n",
       "      <td>3</td>\n",
       "      <td>9</td>\n",
       "      <td>0</td>\n",
       "      <td>28.3</td>\n",
       "      <td>12</td>\n",
       "    </tr>\n",
       "  </tbody>\n",
       "</table>\n",
       "<p>5 rows × 21 columns</p>\n",
       "</div>"
      ],
      "text/plain": [
       "   loan_amnt  funded_amnt_inv        term  int_rate  installment grade  \\\n",
       "0       5000           4975.0   36 months     10.65       162.87     B   \n",
       "1       2500           2500.0   60 months     15.27        59.83     C   \n",
       "2       2400           2400.0   36 months     15.96        84.33     C   \n",
       "3      10000          10000.0   36 months     13.49       339.31     C   \n",
       "5       5000           5000.0   36 months      7.90       156.46     A   \n",
       "\n",
       "  sub_grade  emp_length home_ownership  annual_inc  ... issue_d  loan_status  \\\n",
       "0        B2        10.0           RENT     24000.0  ...  Dec-11   Fully Paid   \n",
       "1        C4         0.0           RENT     30000.0  ...  Dec-11  Charged Off   \n",
       "2        C5        10.0           RENT     12252.0  ...  Dec-11   Fully Paid   \n",
       "3        C1        10.0           RENT     49200.0  ...  Dec-11   Fully Paid   \n",
       "5        A4         3.0           RENT     36000.0  ...  Dec-11   Fully Paid   \n",
       "\n",
       "          purpose    dti  earliest_cr_line inq_last_6mths  open_acc  pub_rec  \\\n",
       "0     credit_card  27.65            Jan-85              1         3        0   \n",
       "1             car   1.00            Apr-99              5         3        0   \n",
       "2  small_business   8.72            Nov-01              2         2        0   \n",
       "3           other  20.00            Feb-96              1        10        0   \n",
       "5         wedding  11.20            Nov-04              3         9        0   \n",
       "\n",
       "   revol_util  total_acc  \n",
       "0        83.7          9  \n",
       "1         9.4          4  \n",
       "2        98.5         10  \n",
       "3        21.0         37  \n",
       "5        28.3         12  \n",
       "\n",
       "[5 rows x 21 columns]"
      ]
     },
     "execution_count": 22,
     "metadata": {},
     "output_type": "execute_result"
    }
   ],
   "source": [
    "loan_data.head()"
   ]
  },
  {
   "cell_type": "markdown",
   "id": "a9487b69",
   "metadata": {},
   "source": [
    "    we can see we have sub_grade column with alphanumeric value\n",
    "    Let's extract only numeric values from sub_grade, this will help in our analysis"
   ]
  },
  {
   "cell_type": "code",
   "execution_count": 23,
   "id": "c7356c5b",
   "metadata": {},
   "outputs": [],
   "source": [
    "loan_data.sub_grade=pd.to_numeric(loan_data.sub_grade.apply(lambda x:x[-1]))"
   ]
  },
  {
   "cell_type": "code",
   "execution_count": 24,
   "id": "71043f3f",
   "metadata": {},
   "outputs": [
    {
     "data": {
      "text/html": [
       "<div>\n",
       "<style scoped>\n",
       "    .dataframe tbody tr th:only-of-type {\n",
       "        vertical-align: middle;\n",
       "    }\n",
       "\n",
       "    .dataframe tbody tr th {\n",
       "        vertical-align: top;\n",
       "    }\n",
       "\n",
       "    .dataframe thead th {\n",
       "        text-align: right;\n",
       "    }\n",
       "</style>\n",
       "<table border=\"1\" class=\"dataframe\">\n",
       "  <thead>\n",
       "    <tr style=\"text-align: right;\">\n",
       "      <th></th>\n",
       "      <th>loan_amnt</th>\n",
       "      <th>funded_amnt_inv</th>\n",
       "      <th>term</th>\n",
       "      <th>int_rate</th>\n",
       "      <th>installment</th>\n",
       "      <th>grade</th>\n",
       "      <th>sub_grade</th>\n",
       "      <th>emp_length</th>\n",
       "      <th>home_ownership</th>\n",
       "      <th>annual_inc</th>\n",
       "      <th>...</th>\n",
       "      <th>issue_d</th>\n",
       "      <th>loan_status</th>\n",
       "      <th>purpose</th>\n",
       "      <th>dti</th>\n",
       "      <th>earliest_cr_line</th>\n",
       "      <th>inq_last_6mths</th>\n",
       "      <th>open_acc</th>\n",
       "      <th>pub_rec</th>\n",
       "      <th>revol_util</th>\n",
       "      <th>total_acc</th>\n",
       "    </tr>\n",
       "  </thead>\n",
       "  <tbody>\n",
       "    <tr>\n",
       "      <th>0</th>\n",
       "      <td>5000</td>\n",
       "      <td>4975.0</td>\n",
       "      <td>36 months</td>\n",
       "      <td>10.65</td>\n",
       "      <td>162.87</td>\n",
       "      <td>B</td>\n",
       "      <td>2</td>\n",
       "      <td>10.0</td>\n",
       "      <td>RENT</td>\n",
       "      <td>24000.0</td>\n",
       "      <td>...</td>\n",
       "      <td>Dec-11</td>\n",
       "      <td>Fully Paid</td>\n",
       "      <td>credit_card</td>\n",
       "      <td>27.65</td>\n",
       "      <td>Jan-85</td>\n",
       "      <td>1</td>\n",
       "      <td>3</td>\n",
       "      <td>0</td>\n",
       "      <td>83.7</td>\n",
       "      <td>9</td>\n",
       "    </tr>\n",
       "    <tr>\n",
       "      <th>1</th>\n",
       "      <td>2500</td>\n",
       "      <td>2500.0</td>\n",
       "      <td>60 months</td>\n",
       "      <td>15.27</td>\n",
       "      <td>59.83</td>\n",
       "      <td>C</td>\n",
       "      <td>4</td>\n",
       "      <td>0.0</td>\n",
       "      <td>RENT</td>\n",
       "      <td>30000.0</td>\n",
       "      <td>...</td>\n",
       "      <td>Dec-11</td>\n",
       "      <td>Charged Off</td>\n",
       "      <td>car</td>\n",
       "      <td>1.00</td>\n",
       "      <td>Apr-99</td>\n",
       "      <td>5</td>\n",
       "      <td>3</td>\n",
       "      <td>0</td>\n",
       "      <td>9.4</td>\n",
       "      <td>4</td>\n",
       "    </tr>\n",
       "    <tr>\n",
       "      <th>2</th>\n",
       "      <td>2400</td>\n",
       "      <td>2400.0</td>\n",
       "      <td>36 months</td>\n",
       "      <td>15.96</td>\n",
       "      <td>84.33</td>\n",
       "      <td>C</td>\n",
       "      <td>5</td>\n",
       "      <td>10.0</td>\n",
       "      <td>RENT</td>\n",
       "      <td>12252.0</td>\n",
       "      <td>...</td>\n",
       "      <td>Dec-11</td>\n",
       "      <td>Fully Paid</td>\n",
       "      <td>small_business</td>\n",
       "      <td>8.72</td>\n",
       "      <td>Nov-01</td>\n",
       "      <td>2</td>\n",
       "      <td>2</td>\n",
       "      <td>0</td>\n",
       "      <td>98.5</td>\n",
       "      <td>10</td>\n",
       "    </tr>\n",
       "    <tr>\n",
       "      <th>3</th>\n",
       "      <td>10000</td>\n",
       "      <td>10000.0</td>\n",
       "      <td>36 months</td>\n",
       "      <td>13.49</td>\n",
       "      <td>339.31</td>\n",
       "      <td>C</td>\n",
       "      <td>1</td>\n",
       "      <td>10.0</td>\n",
       "      <td>RENT</td>\n",
       "      <td>49200.0</td>\n",
       "      <td>...</td>\n",
       "      <td>Dec-11</td>\n",
       "      <td>Fully Paid</td>\n",
       "      <td>other</td>\n",
       "      <td>20.00</td>\n",
       "      <td>Feb-96</td>\n",
       "      <td>1</td>\n",
       "      <td>10</td>\n",
       "      <td>0</td>\n",
       "      <td>21.0</td>\n",
       "      <td>37</td>\n",
       "    </tr>\n",
       "    <tr>\n",
       "      <th>5</th>\n",
       "      <td>5000</td>\n",
       "      <td>5000.0</td>\n",
       "      <td>36 months</td>\n",
       "      <td>7.90</td>\n",
       "      <td>156.46</td>\n",
       "      <td>A</td>\n",
       "      <td>4</td>\n",
       "      <td>3.0</td>\n",
       "      <td>RENT</td>\n",
       "      <td>36000.0</td>\n",
       "      <td>...</td>\n",
       "      <td>Dec-11</td>\n",
       "      <td>Fully Paid</td>\n",
       "      <td>wedding</td>\n",
       "      <td>11.20</td>\n",
       "      <td>Nov-04</td>\n",
       "      <td>3</td>\n",
       "      <td>9</td>\n",
       "      <td>0</td>\n",
       "      <td>28.3</td>\n",
       "      <td>12</td>\n",
       "    </tr>\n",
       "  </tbody>\n",
       "</table>\n",
       "<p>5 rows × 21 columns</p>\n",
       "</div>"
      ],
      "text/plain": [
       "   loan_amnt  funded_amnt_inv        term  int_rate  installment grade  \\\n",
       "0       5000           4975.0   36 months     10.65       162.87     B   \n",
       "1       2500           2500.0   60 months     15.27        59.83     C   \n",
       "2       2400           2400.0   36 months     15.96        84.33     C   \n",
       "3      10000          10000.0   36 months     13.49       339.31     C   \n",
       "5       5000           5000.0   36 months      7.90       156.46     A   \n",
       "\n",
       "   sub_grade  emp_length home_ownership  annual_inc  ... issue_d  loan_status  \\\n",
       "0          2        10.0           RENT     24000.0  ...  Dec-11   Fully Paid   \n",
       "1          4         0.0           RENT     30000.0  ...  Dec-11  Charged Off   \n",
       "2          5        10.0           RENT     12252.0  ...  Dec-11   Fully Paid   \n",
       "3          1        10.0           RENT     49200.0  ...  Dec-11   Fully Paid   \n",
       "5          4         3.0           RENT     36000.0  ...  Dec-11   Fully Paid   \n",
       "\n",
       "          purpose    dti  earliest_cr_line inq_last_6mths  open_acc  pub_rec  \\\n",
       "0     credit_card  27.65            Jan-85              1         3        0   \n",
       "1             car   1.00            Apr-99              5         3        0   \n",
       "2  small_business   8.72            Nov-01              2         2        0   \n",
       "3           other  20.00            Feb-96              1        10        0   \n",
       "5         wedding  11.20            Nov-04              3         9        0   \n",
       "\n",
       "   revol_util  total_acc  \n",
       "0        83.7          9  \n",
       "1         9.4          4  \n",
       "2        98.5         10  \n",
       "3        21.0         37  \n",
       "5        28.3         12  \n",
       "\n",
       "[5 rows x 21 columns]"
      ]
     },
     "execution_count": 24,
     "metadata": {},
     "output_type": "execute_result"
    }
   ],
   "source": [
    "loan_data.head()"
   ]
  },
  {
   "cell_type": "markdown",
   "id": "2a9ff5f8",
   "metadata": {},
   "source": [
    "###  Outliers Process\n",
    "#### Let's find out outliers on numerical variables which could possibly have outliers."
   ]
  },
  {
   "cell_type": "code",
   "execution_count": 25,
   "id": "4a4281d2",
   "metadata": {},
   "outputs": [
    {
     "data": {
      "image/png": "[encoded data removed]",
      "text/plain": [
       "<Figure size 432x288 with 1 Axes>"
      ]
     },
     "metadata": {
      "needs_background": "light"
     },
     "output_type": "display_data"
    }
   ],
   "source": [
    "#### annual_inc has numeric values, Let's find out outliers\n",
    "sns.boxplot(y=loan_data['annual_inc'])\n",
    "plt.show()"
   ]
  },
  {
   "cell_type": "markdown",
   "id": "7edc4cfe",
   "metadata": {},
   "source": [
    "#### We can see there are outliers, \n",
    "    -We will remove outliers.\n",
    "    -because this would disproportionately affect the results of your data analysis\n",
    "    -we will calculates the quantile of the values in a given axis to remove outliers\n",
    "    -The quantile() method calculates the quantile column-wise and returns the mean value for each row"
   ]
  },
  {
   "cell_type": "code",
   "execution_count": 26,
   "id": "2ea8956f",
   "metadata": {},
   "outputs": [
    {
     "data": {
      "text/plain": [
       "0.50     58868.0\n",
       "0.70     75000.0\n",
       "0.80     90000.0\n",
       "0.90    115000.0\n",
       "0.95    140004.0\n",
       "0.97    165000.0\n",
       "0.98    187000.0\n",
       "0.99    234144.0\n",
       "Name: annual_inc, dtype: float64"
      ]
     },
     "execution_count": 26,
     "metadata": {},
     "output_type": "execute_result"
    }
   ],
   "source": [
    "annual_inc_quantile_info = loan_data.annual_inc.quantile([0.5, 0.70,0.80,0.90, 0.95, 0.97,0.98, 0.99])\n",
    "annual_inc_quantile_info"
   ]
  },
  {
   "cell_type": "markdown",
   "id": "b8b18e13",
   "metadata": {},
   "source": [
    "1. The values after 95 percentile seems to be high increase in the value.<br>\n",
    "2. So, considering threshold for removing outliers as 0.95"
   ]
  },
  {
   "cell_type": "code",
   "execution_count": 27,
   "id": "6eba20a7",
   "metadata": {},
   "outputs": [],
   "source": [
    "annual_inc_95_per = loan_data['annual_inc'].quantile(0.95)\n",
    "loan_data = loan_data[loan_data.annual_inc <= annual_inc_95_per]"
   ]
  },
  {
   "cell_type": "code",
   "execution_count": 28,
   "id": "f0601254",
   "metadata": {},
   "outputs": [
    {
     "data": {
      "image/png": "[encoded data removed]",
      "text/plain": [
       "<Figure size 432x288 with 1 Axes>"
      ]
     },
     "metadata": {
      "needs_background": "light"
     },
     "output_type": "display_data"
    }
   ],
   "source": [
    "sns.boxplot(y=loan_data['annual_inc'])\n",
    "plt.show()"
   ]
  },
  {
   "cell_type": "code",
   "execution_count": 29,
   "id": "bfec153e",
   "metadata": {},
   "outputs": [
    {
     "data": {
      "image/png": "[encoded data removed]",
      "text/plain": [
       "<Figure size 432x288 with 1 Axes>"
      ]
     },
     "metadata": {
      "needs_background": "light"
     },
     "output_type": "display_data"
    }
   ],
   "source": [
    "#### dti has numeric values, Let's find out outliers\n",
    "sns.boxplot(y=loan_data.dti)\n",
    "plt.show()"
   ]
  },
  {
   "cell_type": "code",
   "execution_count": 30,
   "id": "f3d78205",
   "metadata": {},
   "outputs": [
    {
     "data": {
      "image/png": "[encoded data removed]",
      "text/plain": [
       "<Figure size 432x288 with 1 Axes>"
      ]
     },
     "metadata": {
      "needs_background": "light"
     },
     "output_type": "display_data"
    }
   ],
   "source": [
    "#### funded_amnt_inv has numeric values, Let's find out outliers\n",
    "sns.boxplot(y=loan_data.funded_amnt_inv)\n",
    "plt.show()"
   ]
  },
  {
   "cell_type": "markdown",
   "id": "30f67d8f",
   "metadata": {},
   "source": [
    "Clearly we can see above there are some values far from distribution for funded_amnt_inv, but these values are continous and there is no need to remove outliers."
   ]
  },
  {
   "cell_type": "code",
   "execution_count": 31,
   "id": "345cee14",
   "metadata": {},
   "outputs": [
    {
     "data": {
      "image/png": "[encoded data removed]",
      "text/plain": [
       "<Figure size 432x288 with 1 Axes>"
      ]
     },
     "metadata": {
      "needs_background": "light"
     },
     "output_type": "display_data"
    }
   ],
   "source": [
    "#### loan_data has numeric values, Let's find out outliers\n",
    "sns.boxplot(y=loan_data.loan_amnt)\n",
    "plt.show()"
   ]
  },
  {
   "cell_type": "markdown",
   "id": "7322dd1b",
   "metadata": {},
   "source": [
    "Clearly we can see above there are some values far from distribution for loan_amnt, but these values are continous and there is no need to remove outliers."
   ]
  },
  {
   "cell_type": "markdown",
   "id": "811261a9",
   "metadata": {},
   "source": [
    "## Visualizing The Data"
   ]
  },
  {
   "cell_type": "markdown",
   "id": "30b7c421",
   "metadata": {},
   "source": [
    "1. Now we have clean the data and will analyze and visualize the data.\n",
    "2. The company wants to know which loan applications are risky or defaulter"
   ]
  },
  {
   "cell_type": "code",
   "execution_count": 32,
   "id": "efdf91f0",
   "metadata": {},
   "outputs": [
    {
     "data": {
      "image/png": "[encoded data removed]",
      "text/plain": [
       "<Figure size 1080x360 with 1 Axes>"
      ]
     },
     "metadata": {
      "needs_background": "light"
     },
     "output_type": "display_data"
    }
   ],
   "source": [
    "plt.figure(figsize=(15,5))\n",
    "sns.countplot(x='loan_status',data=loan_data)\n",
    "plt.title('Countplot of loan status',weight='bold').set_fontsize('13')\n",
    "plt.xlabel('Loan Ststus')\n",
    "plt.show()"
   ]
  },
  {
   "cell_type": "markdown",
   "id": "1054b873",
   "metadata": {},
   "source": [
    "##### For finding loan defaulters, we will Analyse/Visualize data only for 'Charged Off' loan_status on various subset of data."
   ]
  },
  {
   "cell_type": "markdown",
   "id": "90ed2de9",
   "metadata": {},
   "source": [
    "#### Univariate Analysis"
   ]
  },
  {
   "cell_type": "markdown",
   "id": "ed1af55c",
   "metadata": {},
   "source": [
    " ##### 1. Analyzing by Loan Purpose"
   ]
  },
  {
   "cell_type": "code",
   "execution_count": 33,
   "id": "243a3061",
   "metadata": {},
   "outputs": [
    {
     "data": {
      "image/png": "[encoded data removed]",
      "text/plain": [
       "<Figure size 1080x360 with 1 Axes>"
      ]
     },
     "metadata": {
      "needs_background": "light"
     },
     "output_type": "display_data"
    }
   ],
   "source": [
    "### Analyzing by Loan Purpose\n",
    "plt.figure(figsize=(15,5))\n",
    "sns.countplot(y='purpose',data=loan_data[loan_data.loan_status=='Charged Off'])\n",
    "plt.title('Visualization by Loan Purpose',weight='bold').set_fontsize('13')\n",
    "plt.ylabel('Purpose')\n",
    "plt.xlabel('Counts')\n",
    "plt.show()"
   ]
  },
  {
   "cell_type": "markdown",
   "id": "604d38ec",
   "metadata": {},
   "source": [
    "#### Observation"
   ]
  },
  {
   "cell_type": "markdown",
   "id": "8d33602d",
   "metadata": {},
   "source": [
    "* There is a 'More' probability of defaulting the loan if applicant is taken loan for debt consolidation purpose."
   ]
  },
  {
   "cell_type": "markdown",
   "id": "f74ae52a",
   "metadata": {},
   "source": [
    "##### 2 Analyzing by Grade"
   ]
  },
  {
   "cell_type": "code",
   "execution_count": 34,
   "id": "c404c533",
   "metadata": {},
   "outputs": [
    {
     "data": {
      "image/png": "[encoded data removed]",
      "text/plain": [
       "<Figure size 1080x360 with 1 Axes>"
      ]
     },
     "metadata": {
      "needs_background": "light"
     },
     "output_type": "display_data"
    }
   ],
   "source": [
    "plt.figure(figsize=(15,5))\n",
    "sns.countplot(x = 'grade', data = loan_data[loan_data.loan_status == 'Charged Off'], order = ['A', 'B', 'C', 'D', 'E', 'F', 'G'])\n",
    "plt.title('Visualization by grade',weight='bold').set_fontsize('13')\n",
    "plt.xlabel('Grade')\n",
    "plt.ylabel('Counts')\n",
    "plt.show()"
   ]
  },
  {
   "cell_type": "markdown",
   "id": "3eb25721",
   "metadata": {},
   "source": [
    "#### Observation"
   ]
  },
  {
   "cell_type": "markdown",
   "id": "864751f3",
   "metadata": {},
   "source": [
    "* There is a 'More' probability of defaulting the loan if applicant is belong to 'Group B'\n"
   ]
  },
  {
   "cell_type": "markdown",
   "id": "a1660814",
   "metadata": {},
   "source": [
    "#### 3 Analyzing by Grade and Subgrade"
   ]
  },
  {
   "cell_type": "code",
   "execution_count": 35,
   "id": "73ad5e1c",
   "metadata": {},
   "outputs": [
    {
     "data": {
      "image/png": "[encoded data removed]",
      "text/plain": [
       "<Figure size 1080x360 with 1 Axes>"
      ]
     },
     "metadata": {
      "needs_background": "light"
     },
     "output_type": "display_data"
    }
   ],
   "source": [
    "plt.figure(figsize=(15,5))\n",
    "sns.countplot(x = 'grade', order = ['A', 'B', 'C', 'D', 'E', 'F', 'G'] , hue = 'sub_grade',data = loan_data[loan_data.loan_status == 'Charged Off'])\n",
    "plt.title('Visualization by grade and sub grade',weight='bold').set_fontsize('13')\n",
    "plt.xlabel('Grade & Sub grade')\n",
    "plt.ylabel('Counts')\n",
    "plt.show()"
   ]
  },
  {
   "cell_type": "markdown",
   "id": "cb387a3a",
   "metadata": {},
   "source": [
    "#### Observation"
   ]
  },
  {
   "cell_type": "markdown",
   "id": "f970d6c6",
   "metadata": {},
   "source": [
    "* There is a \"More' probability of defaulting the loan if applicant is belong to 'Grade B' with 'Sub Grade 5'\n"
   ]
  },
  {
   "cell_type": "markdown",
   "id": "a747e4ab",
   "metadata": {},
   "source": [
    "#### 4 Analyzing home_ownership"
   ]
  },
  {
   "cell_type": "code",
   "execution_count": 36,
   "id": "b8af7e0a",
   "metadata": {},
   "outputs": [
    {
     "data": {
      "text/plain": [
       "array(['RENT', 'OWN', 'MORTGAGE', 'OTHER', 'NONE'], dtype=object)"
      ]
     },
     "execution_count": 36,
     "metadata": {},
     "output_type": "execute_result"
    }
   ],
   "source": [
    "#checking unique values for home_ownership\n",
    "loan_data['home_ownership'].unique()\n"
   ]
  },
  {
   "cell_type": "code",
   "execution_count": 37,
   "id": "58cdb8b9",
   "metadata": {},
   "outputs": [
    {
     "data": {
      "text/plain": [
       "array(['RENT', 'OWN', 'MORTGAGE', 'OTHER'], dtype=object)"
      ]
     },
     "execution_count": 37,
     "metadata": {},
     "output_type": "execute_result"
    }
   ],
   "source": [
    "#replacing 'NONE' with 'OTHERS'\n",
    "loan_data['home_ownership'].replace(to_replace = ['NONE'],value='OTHER',inplace = True)\n",
    "#checking unique values for home_ownership again\n",
    "loan_data['home_ownership'].unique()"
   ]
  },
  {
   "cell_type": "code",
   "execution_count": 38,
   "id": "54f03bab",
   "metadata": {},
   "outputs": [
    {
     "data": {
      "image/png": "[encoded data removed]",
      "text/plain": [
       "<Figure size 1080x360 with 1 Axes>"
      ]
     },
     "metadata": {
      "needs_background": "light"
     },
     "output_type": "display_data"
    }
   ],
   "source": [
    "### Analyzing by Home Ownership\n",
    "plt.figure(figsize=(15,5))\n",
    "sns.countplot(x='home_ownership',data=loan_data[loan_data.loan_status=='Charged Off'])\n",
    "plt.title('Visualization by Home Ownership',weight='bold').set_fontsize('13')\n",
    "plt.xlabel('Home ownership')\n",
    "plt.ylabel('Counts')\n",
    "plt.show()"
   ]
  },
  {
   "cell_type": "markdown",
   "id": "b6df0dc9",
   "metadata": {},
   "source": [
    "#### Observation "
   ]
  },
  {
   "cell_type": "markdown",
   "id": "2b156224",
   "metadata": {},
   "source": [
    "* Applicant having home ownership is 'Rent' There is a 'More' probability of defaulting loan. \n"
   ]
  },
  {
   "cell_type": "markdown",
   "id": "a3cb9656",
   "metadata": {},
   "source": [
    "#### 4 Analyzing  Emp Length"
   ]
  },
  {
   "cell_type": "code",
   "execution_count": 39,
   "id": "1b10873f",
   "metadata": {},
   "outputs": [
    {
     "data": {
      "image/png": "[encoded data removed]",
      "text/plain": [
       "<Figure size 1080x360 with 1 Axes>"
      ]
     },
     "metadata": {
      "needs_background": "light"
     },
     "output_type": "display_data"
    }
   ],
   "source": [
    "plt.figure(figsize=(15,5))\n",
    "sns.countplot(x='emp_length',data=loan_data[loan_data.loan_status=='Charged Off'],)\n",
    "plt.title('Visualization by Employee Length',weight='bold').set_fontsize('13')\n",
    "plt.xlabel('Employee Length')\n",
    "plt.ylabel('Counts')\n",
    "plt.show()"
   ]
  },
  {
   "cell_type": "markdown",
   "id": "f91c066c",
   "metadata": {},
   "source": [
    "#### Observation"
   ]
  },
  {
   "cell_type": "markdown",
   "id": "62c1cd83",
   "metadata": {},
   "source": [
    "* Applicants with employment length of 10 is more probability of defaulting."
   ]
  },
  {
   "cell_type": "markdown",
   "id": "a043bab3",
   "metadata": {},
   "source": [
    "#### 5. Analyzing Loan Term"
   ]
  },
  {
   "cell_type": "code",
   "execution_count": 40,
   "id": "e5afb243",
   "metadata": {},
   "outputs": [
    {
     "data": {
      "image/png": "[encoded data removed]",
      "text/plain": [
       "<Figure size 1080x360 with 1 Axes>"
      ]
     },
     "metadata": {
      "needs_background": "light"
     },
     "output_type": "display_data"
    }
   ],
   "source": [
    "plt.figure(figsize=(15,5))\n",
    "sns.countplot(x='term', data=loan_data[loan_data['loan_status']=='Charged Off'])\n",
    "plt.title('Visualization by Loan Term',weight='bold').set_fontsize('13')\n",
    "plt.xlabel('Loan Term')\n",
    "plt.ylabel('Counts')\n",
    "plt.show()"
   ]
  },
  {
   "cell_type": "markdown",
   "id": "dc1216f3",
   "metadata": {},
   "source": [
    "#### Observation"
   ]
  },
  {
   "cell_type": "markdown",
   "id": "0e909b8f",
   "metadata": {},
   "source": [
    "* Applicants with Loan term of 36 months is more probability of defaulting."
   ]
  },
  {
   "cell_type": "markdown",
   "id": "ea683153",
   "metadata": {},
   "source": [
    "#### 6. Analyzing Verification Status"
   ]
  },
  {
   "cell_type": "code",
   "execution_count": 41,
   "id": "27cd4469",
   "metadata": {},
   "outputs": [
    {
     "data": {
      "image/png": "[encoded data removed]",
      "text/plain": [
       "<Figure size 1080x360 with 1 Axes>"
      ]
     },
     "metadata": {
      "needs_background": "light"
     },
     "output_type": "display_data"
    }
   ],
   "source": [
    "\n",
    "plt.figure(figsize=(15,5))\n",
    "sns.countplot(x='verification_status', data=loan_data[loan_data['loan_status']=='Charged Off'])\n",
    "plt.title('Visualization by Verification Status',weight='bold').set_fontsize('13')\n",
    "plt.xlabel('Verification Status')\n",
    "plt.ylabel('Counts')\n",
    "plt.show()"
   ]
  },
  {
   "cell_type": "markdown",
   "id": "b80b54ba",
   "metadata": {},
   "source": [
    "#### Observation"
   ]
  },
  {
   "cell_type": "markdown",
   "id": "a76a0ee9",
   "metadata": {},
   "source": [
    "* There is a 'More' probability of defaulting When the loan status is Not verified"
   ]
  },
  {
   "cell_type": "markdown",
   "id": "95edc8d0",
   "metadata": {},
   "source": [
    "#### Analyzing inq_last_6mths"
   ]
  },
  {
   "cell_type": "code",
   "execution_count": 42,
   "id": "4dd42d00",
   "metadata": {},
   "outputs": [
    {
     "data": {
      "image/png": "[encoded data removed]",
      "text/plain": [
       "<Figure size 1152x360 with 1 Axes>"
      ]
     },
     "metadata": {
      "needs_background": "light"
     },
     "output_type": "display_data"
    }
   ],
   "source": [
    "plt.figure(figsize=(16,5))\n",
    "plt.title('Visualization by last six month enquiry',weight='bold').set_fontsize('13')\n",
    "\n",
    "plt.hist(loan_data[loan_data.loan_status=='Charged Off']['inq_last_6mths'],label='loan_status = Charged Off', alpha=0.4)\n",
    "plt.xlabel('inq_last_6mths')\n",
    "plt.legend()\n",
    "plt.show()\n"
   ]
  },
  {
   "cell_type": "markdown",
   "id": "7532d42a",
   "metadata": {},
   "source": [
    "#### Observation"
   ]
  },
  {
   "cell_type": "markdown",
   "id": "622ce949",
   "metadata": {},
   "source": [
    "* There is a 'More' probability of defaulting When the no of enquiries in last 6 months is 0. "
   ]
  },
  {
   "cell_type": "markdown",
   "id": "ee3c782a",
   "metadata": {},
   "source": [
    "#### 7 Analyzing by issued month and year\n",
    "    * We need to create new column for month and year."
   ]
  },
  {
   "cell_type": "code",
   "execution_count": 43,
   "id": "0564f2be",
   "metadata": {},
   "outputs": [
    {
     "data": {
      "text/html": [
       "<div>\n",
       "<style scoped>\n",
       "    .dataframe tbody tr th:only-of-type {\n",
       "        vertical-align: middle;\n",
       "    }\n",
       "\n",
       "    .dataframe tbody tr th {\n",
       "        vertical-align: top;\n",
       "    }\n",
       "\n",
       "    .dataframe thead th {\n",
       "        text-align: right;\n",
       "    }\n",
       "</style>\n",
       "<table border=\"1\" class=\"dataframe\">\n",
       "  <thead>\n",
       "    <tr style=\"text-align: right;\">\n",
       "      <th></th>\n",
       "      <th>loan_amnt</th>\n",
       "      <th>funded_amnt_inv</th>\n",
       "      <th>term</th>\n",
       "      <th>int_rate</th>\n",
       "      <th>installment</th>\n",
       "      <th>grade</th>\n",
       "      <th>sub_grade</th>\n",
       "      <th>emp_length</th>\n",
       "      <th>home_ownership</th>\n",
       "      <th>annual_inc</th>\n",
       "      <th>...</th>\n",
       "      <th>purpose</th>\n",
       "      <th>dti</th>\n",
       "      <th>earliest_cr_line</th>\n",
       "      <th>inq_last_6mths</th>\n",
       "      <th>open_acc</th>\n",
       "      <th>pub_rec</th>\n",
       "      <th>revol_util</th>\n",
       "      <th>total_acc</th>\n",
       "      <th>issue_month</th>\n",
       "      <th>issue_year</th>\n",
       "    </tr>\n",
       "  </thead>\n",
       "  <tbody>\n",
       "    <tr>\n",
       "      <th>0</th>\n",
       "      <td>5000</td>\n",
       "      <td>4975.0</td>\n",
       "      <td>36 months</td>\n",
       "      <td>10.65</td>\n",
       "      <td>162.87</td>\n",
       "      <td>B</td>\n",
       "      <td>2</td>\n",
       "      <td>10.0</td>\n",
       "      <td>RENT</td>\n",
       "      <td>24000.0</td>\n",
       "      <td>...</td>\n",
       "      <td>credit_card</td>\n",
       "      <td>27.65</td>\n",
       "      <td>Jan-85</td>\n",
       "      <td>1</td>\n",
       "      <td>3</td>\n",
       "      <td>0</td>\n",
       "      <td>83.7</td>\n",
       "      <td>9</td>\n",
       "      <td>Dec</td>\n",
       "      <td>2011</td>\n",
       "    </tr>\n",
       "    <tr>\n",
       "      <th>1</th>\n",
       "      <td>2500</td>\n",
       "      <td>2500.0</td>\n",
       "      <td>60 months</td>\n",
       "      <td>15.27</td>\n",
       "      <td>59.83</td>\n",
       "      <td>C</td>\n",
       "      <td>4</td>\n",
       "      <td>0.0</td>\n",
       "      <td>RENT</td>\n",
       "      <td>30000.0</td>\n",
       "      <td>...</td>\n",
       "      <td>car</td>\n",
       "      <td>1.00</td>\n",
       "      <td>Apr-99</td>\n",
       "      <td>5</td>\n",
       "      <td>3</td>\n",
       "      <td>0</td>\n",
       "      <td>9.4</td>\n",
       "      <td>4</td>\n",
       "      <td>Dec</td>\n",
       "      <td>2011</td>\n",
       "    </tr>\n",
       "    <tr>\n",
       "      <th>2</th>\n",
       "      <td>2400</td>\n",
       "      <td>2400.0</td>\n",
       "      <td>36 months</td>\n",
       "      <td>15.96</td>\n",
       "      <td>84.33</td>\n",
       "      <td>C</td>\n",
       "      <td>5</td>\n",
       "      <td>10.0</td>\n",
       "      <td>RENT</td>\n",
       "      <td>12252.0</td>\n",
       "      <td>...</td>\n",
       "      <td>small_business</td>\n",
       "      <td>8.72</td>\n",
       "      <td>Nov-01</td>\n",
       "      <td>2</td>\n",
       "      <td>2</td>\n",
       "      <td>0</td>\n",
       "      <td>98.5</td>\n",
       "      <td>10</td>\n",
       "      <td>Dec</td>\n",
       "      <td>2011</td>\n",
       "    </tr>\n",
       "    <tr>\n",
       "      <th>3</th>\n",
       "      <td>10000</td>\n",
       "      <td>10000.0</td>\n",
       "      <td>36 months</td>\n",
       "      <td>13.49</td>\n",
       "      <td>339.31</td>\n",
       "      <td>C</td>\n",
       "      <td>1</td>\n",
       "      <td>10.0</td>\n",
       "      <td>RENT</td>\n",
       "      <td>49200.0</td>\n",
       "      <td>...</td>\n",
       "      <td>other</td>\n",
       "      <td>20.00</td>\n",
       "      <td>Feb-96</td>\n",
       "      <td>1</td>\n",
       "      <td>10</td>\n",
       "      <td>0</td>\n",
       "      <td>21.0</td>\n",
       "      <td>37</td>\n",
       "      <td>Dec</td>\n",
       "      <td>2011</td>\n",
       "    </tr>\n",
       "    <tr>\n",
       "      <th>5</th>\n",
       "      <td>5000</td>\n",
       "      <td>5000.0</td>\n",
       "      <td>36 months</td>\n",
       "      <td>7.90</td>\n",
       "      <td>156.46</td>\n",
       "      <td>A</td>\n",
       "      <td>4</td>\n",
       "      <td>3.0</td>\n",
       "      <td>RENT</td>\n",
       "      <td>36000.0</td>\n",
       "      <td>...</td>\n",
       "      <td>wedding</td>\n",
       "      <td>11.20</td>\n",
       "      <td>Nov-04</td>\n",
       "      <td>3</td>\n",
       "      <td>9</td>\n",
       "      <td>0</td>\n",
       "      <td>28.3</td>\n",
       "      <td>12</td>\n",
       "      <td>Dec</td>\n",
       "      <td>2011</td>\n",
       "    </tr>\n",
       "  </tbody>\n",
       "</table>\n",
       "<p>5 rows × 23 columns</p>\n",
       "</div>"
      ],
      "text/plain": [
       "   loan_amnt  funded_amnt_inv        term  int_rate  installment grade  \\\n",
       "0       5000           4975.0   36 months     10.65       162.87     B   \n",
       "1       2500           2500.0   60 months     15.27        59.83     C   \n",
       "2       2400           2400.0   36 months     15.96        84.33     C   \n",
       "3      10000          10000.0   36 months     13.49       339.31     C   \n",
       "5       5000           5000.0   36 months      7.90       156.46     A   \n",
       "\n",
       "   sub_grade  emp_length home_ownership  annual_inc  ...         purpose  \\\n",
       "0          2        10.0           RENT     24000.0  ...     credit_card   \n",
       "1          4         0.0           RENT     30000.0  ...             car   \n",
       "2          5        10.0           RENT     12252.0  ...  small_business   \n",
       "3          1        10.0           RENT     49200.0  ...           other   \n",
       "5          4         3.0           RENT     36000.0  ...         wedding   \n",
       "\n",
       "     dti earliest_cr_line inq_last_6mths  open_acc pub_rec  revol_util  \\\n",
       "0  27.65           Jan-85              1         3       0        83.7   \n",
       "1   1.00           Apr-99              5         3       0         9.4   \n",
       "2   8.72           Nov-01              2         2       0        98.5   \n",
       "3  20.00           Feb-96              1        10       0        21.0   \n",
       "5  11.20           Nov-04              3         9       0        28.3   \n",
       "\n",
       "   total_acc  issue_month  issue_year  \n",
       "0          9          Dec        2011  \n",
       "1          4          Dec        2011  \n",
       "2         10          Dec        2011  \n",
       "3         37          Dec        2011  \n",
       "5         12          Dec        2011  \n",
       "\n",
       "[5 rows x 23 columns]"
      ]
     },
     "execution_count": 43,
     "metadata": {},
     "output_type": "execute_result"
    }
   ],
   "source": [
    "### Spliting  \"month\" & 'year' from issue_d.\n",
    "extract_month_year=loan_data.issue_d.str.split('-')\n",
    "\n",
    "### Creating new column \"month\" from issue_d in datasheet.\n",
    "loan_data['issue_month']=extract_month_year.str[0]\n",
    "\n",
    "### Creating new column \"year\" from issue_d in datasheet.\n",
    "loan_data['issue_year']='20'+extract_month_year.str[1]\n",
    "\n",
    "loan_data.head()"
   ]
  },
  {
   "cell_type": "code",
   "execution_count": 44,
   "id": "97a04fd5",
   "metadata": {},
   "outputs": [
    {
     "data": {
      "image/png": "[encoded data removed]",
      "text/plain": [
       "<Figure size 1152x360 with 1 Axes>"
      ]
     },
     "metadata": {
      "needs_background": "light"
     },
     "output_type": "display_data"
    }
   ],
   "source": [
    "##### Vizualization By month\n",
    "plt.figure(figsize=(16,5))\n",
    "plt.title('Visualization of loan issue in month',weight='bold').set_fontsize('13')\n",
    "sns.countplot(x='issue_month',data=loan_data[loan_data.loan_status=='Charged Off'])\n",
    "plt.show()"
   ]
  },
  {
   "cell_type": "markdown",
   "id": "e9304ebe",
   "metadata": {},
   "source": [
    "#### Observation"
   ]
  },
  {
   "cell_type": "markdown",
   "id": "48428c1d",
   "metadata": {},
   "source": [
    "* Maximum number of defaults occured when the loan was sanctioned/issued in Dec."
   ]
  },
  {
   "cell_type": "code",
   "execution_count": 45,
   "id": "f6c144c1",
   "metadata": {},
   "outputs": [
    {
     "data": {
      "image/png": "[encoded data removed]",
      "text/plain": [
       "<Figure size 1152x360 with 1 Axes>"
      ]
     },
     "metadata": {
      "needs_background": "light"
     },
     "output_type": "display_data"
    }
   ],
   "source": [
    "##### Analyzing by Year\n",
    "plt.figure(figsize=(16,5))\n",
    "plt.title('Visualization of loan issue in Year',weight='bold').set_fontsize('13')\n",
    "sns.countplot(x='issue_year',data=loan_data[loan_data.loan_status=='Charged Off'])\n",
    "plt.show()"
   ]
  },
  {
   "cell_type": "markdown",
   "id": "abef8a25",
   "metadata": {},
   "source": [
    "#### Observation"
   ]
  },
  {
   "cell_type": "markdown",
   "id": "cd5b5020",
   "metadata": {},
   "source": [
    "* Maximum number of defaults occured when the loan was sanctioned/issued in 2011."
   ]
  },
  {
   "cell_type": "markdown",
   "id": "405bf0d3",
   "metadata": {},
   "source": [
    "###### 8 Analyzing by installment"
   ]
  },
  {
   "cell_type": "code",
   "execution_count": 46,
   "id": "45b0518d",
   "metadata": {},
   "outputs": [
    {
     "data": {
      "text/html": [
       "<div>\n",
       "<style scoped>\n",
       "    .dataframe tbody tr th:only-of-type {\n",
       "        vertical-align: middle;\n",
       "    }\n",
       "\n",
       "    .dataframe tbody tr th {\n",
       "        vertical-align: top;\n",
       "    }\n",
       "\n",
       "    .dataframe thead th {\n",
       "        text-align: right;\n",
       "    }\n",
       "</style>\n",
       "<table border=\"1\" class=\"dataframe\">\n",
       "  <thead>\n",
       "    <tr style=\"text-align: right;\">\n",
       "      <th></th>\n",
       "      <th>loan_amnt</th>\n",
       "      <th>funded_amnt_inv</th>\n",
       "      <th>term</th>\n",
       "      <th>int_rate</th>\n",
       "      <th>installment</th>\n",
       "      <th>grade</th>\n",
       "      <th>sub_grade</th>\n",
       "      <th>emp_length</th>\n",
       "      <th>home_ownership</th>\n",
       "      <th>annual_inc</th>\n",
       "      <th>...</th>\n",
       "      <th>dti</th>\n",
       "      <th>earliest_cr_line</th>\n",
       "      <th>inq_last_6mths</th>\n",
       "      <th>open_acc</th>\n",
       "      <th>pub_rec</th>\n",
       "      <th>revol_util</th>\n",
       "      <th>total_acc</th>\n",
       "      <th>issue_month</th>\n",
       "      <th>issue_year</th>\n",
       "      <th>installment_group</th>\n",
       "    </tr>\n",
       "  </thead>\n",
       "  <tbody>\n",
       "    <tr>\n",
       "      <th>0</th>\n",
       "      <td>5000</td>\n",
       "      <td>4975.0</td>\n",
       "      <td>36 months</td>\n",
       "      <td>10.65</td>\n",
       "      <td>162.87</td>\n",
       "      <td>B</td>\n",
       "      <td>2</td>\n",
       "      <td>10.0</td>\n",
       "      <td>RENT</td>\n",
       "      <td>24000.0</td>\n",
       "      <td>...</td>\n",
       "      <td>27.65</td>\n",
       "      <td>Jan-85</td>\n",
       "      <td>1</td>\n",
       "      <td>3</td>\n",
       "      <td>0</td>\n",
       "      <td>83.7</td>\n",
       "      <td>9</td>\n",
       "      <td>Dec</td>\n",
       "      <td>2011</td>\n",
       "      <td>125-250</td>\n",
       "    </tr>\n",
       "    <tr>\n",
       "      <th>1</th>\n",
       "      <td>2500</td>\n",
       "      <td>2500.0</td>\n",
       "      <td>60 months</td>\n",
       "      <td>15.27</td>\n",
       "      <td>59.83</td>\n",
       "      <td>C</td>\n",
       "      <td>4</td>\n",
       "      <td>0.0</td>\n",
       "      <td>RENT</td>\n",
       "      <td>30000.0</td>\n",
       "      <td>...</td>\n",
       "      <td>1.00</td>\n",
       "      <td>Apr-99</td>\n",
       "      <td>5</td>\n",
       "      <td>3</td>\n",
       "      <td>0</td>\n",
       "      <td>9.4</td>\n",
       "      <td>4</td>\n",
       "      <td>Dec</td>\n",
       "      <td>2011</td>\n",
       "      <td>10-125</td>\n",
       "    </tr>\n",
       "    <tr>\n",
       "      <th>2</th>\n",
       "      <td>2400</td>\n",
       "      <td>2400.0</td>\n",
       "      <td>36 months</td>\n",
       "      <td>15.96</td>\n",
       "      <td>84.33</td>\n",
       "      <td>C</td>\n",
       "      <td>5</td>\n",
       "      <td>10.0</td>\n",
       "      <td>RENT</td>\n",
       "      <td>12252.0</td>\n",
       "      <td>...</td>\n",
       "      <td>8.72</td>\n",
       "      <td>Nov-01</td>\n",
       "      <td>2</td>\n",
       "      <td>2</td>\n",
       "      <td>0</td>\n",
       "      <td>98.5</td>\n",
       "      <td>10</td>\n",
       "      <td>Dec</td>\n",
       "      <td>2011</td>\n",
       "      <td>10-125</td>\n",
       "    </tr>\n",
       "    <tr>\n",
       "      <th>3</th>\n",
       "      <td>10000</td>\n",
       "      <td>10000.0</td>\n",
       "      <td>36 months</td>\n",
       "      <td>13.49</td>\n",
       "      <td>339.31</td>\n",
       "      <td>C</td>\n",
       "      <td>1</td>\n",
       "      <td>10.0</td>\n",
       "      <td>RENT</td>\n",
       "      <td>49200.0</td>\n",
       "      <td>...</td>\n",
       "      <td>20.00</td>\n",
       "      <td>Feb-96</td>\n",
       "      <td>1</td>\n",
       "      <td>10</td>\n",
       "      <td>0</td>\n",
       "      <td>21.0</td>\n",
       "      <td>37</td>\n",
       "      <td>Dec</td>\n",
       "      <td>2011</td>\n",
       "      <td>225-350</td>\n",
       "    </tr>\n",
       "    <tr>\n",
       "      <th>5</th>\n",
       "      <td>5000</td>\n",
       "      <td>5000.0</td>\n",
       "      <td>36 months</td>\n",
       "      <td>7.90</td>\n",
       "      <td>156.46</td>\n",
       "      <td>A</td>\n",
       "      <td>4</td>\n",
       "      <td>3.0</td>\n",
       "      <td>RENT</td>\n",
       "      <td>36000.0</td>\n",
       "      <td>...</td>\n",
       "      <td>11.20</td>\n",
       "      <td>Nov-04</td>\n",
       "      <td>3</td>\n",
       "      <td>9</td>\n",
       "      <td>0</td>\n",
       "      <td>28.3</td>\n",
       "      <td>12</td>\n",
       "      <td>Dec</td>\n",
       "      <td>2011</td>\n",
       "      <td>125-250</td>\n",
       "    </tr>\n",
       "  </tbody>\n",
       "</table>\n",
       "<p>5 rows × 24 columns</p>\n",
       "</div>"
      ],
      "text/plain": [
       "   loan_amnt  funded_amnt_inv        term  int_rate  installment grade  \\\n",
       "0       5000           4975.0   36 months     10.65       162.87     B   \n",
       "1       2500           2500.0   60 months     15.27        59.83     C   \n",
       "2       2400           2400.0   36 months     15.96        84.33     C   \n",
       "3      10000          10000.0   36 months     13.49       339.31     C   \n",
       "5       5000           5000.0   36 months      7.90       156.46     A   \n",
       "\n",
       "   sub_grade  emp_length home_ownership  annual_inc  ...    dti  \\\n",
       "0          2        10.0           RENT     24000.0  ...  27.65   \n",
       "1          4         0.0           RENT     30000.0  ...   1.00   \n",
       "2          5        10.0           RENT     12252.0  ...   8.72   \n",
       "3          1        10.0           RENT     49200.0  ...  20.00   \n",
       "5          4         3.0           RENT     36000.0  ...  11.20   \n",
       "\n",
       "  earliest_cr_line inq_last_6mths open_acc  pub_rec revol_util  total_acc  \\\n",
       "0           Jan-85              1        3        0       83.7          9   \n",
       "1           Apr-99              5        3        0        9.4          4   \n",
       "2           Nov-01              2        2        0       98.5         10   \n",
       "3           Feb-96              1       10        0       21.0         37   \n",
       "5           Nov-04              3        9        0       28.3         12   \n",
       "\n",
       "   issue_month  issue_year  installment_group  \n",
       "0          Dec        2011            125-250  \n",
       "1          Dec        2011             10-125  \n",
       "2          Dec        2011             10-125  \n",
       "3          Dec        2011            225-350  \n",
       "5          Dec        2011            125-250  \n",
       "\n",
       "[5 rows x 24 columns]"
      ]
     },
     "execution_count": 46,
     "metadata": {},
     "output_type": "execute_result"
    }
   ],
   "source": [
    "######creating group of instalment\n",
    "loan_data['installment_group']=pd.cut(loan_data.installment,bins=11,precision=0,labels=['10-125','125-250','225-350','350-475','475-600','600-725','725-900','900-1025','1025-1150','1150-1275','1275-1375'])\n",
    "loan_data.head()"
   ]
  },
  {
   "cell_type": "code",
   "execution_count": 47,
   "id": "c8644457",
   "metadata": {},
   "outputs": [
    {
     "data": {
      "image/png": "[encoded data removed]",
      "text/plain": [
       "<Figure size 1080x360 with 1 Axes>"
      ]
     },
     "metadata": {
      "needs_background": "light"
     },
     "output_type": "display_data"
    }
   ],
   "source": [
    "#####Visualyzing installment by ploting bins\n",
    "plt.figure(figsize=(15,5))\n",
    "sns.countplot(x=loan_data.installment_group,data=loan_data[loan_data['loan_status']=='Charged Off'])\n",
    "plt.title('Visualization of loan according to installment group',weight='bold').set_fontsize('13')\n",
    "plt.show()"
   ]
  },
  {
   "cell_type": "markdown",
   "id": "384a1bb7",
   "metadata": {},
   "source": [
    "#### Observation"
   ]
  },
  {
   "cell_type": "markdown",
   "id": "cc60786f",
   "metadata": {},
   "source": [
    "* Maximum number of defaults occurred When monthly installments are between 145-274"
   ]
  },
  {
   "cell_type": "markdown",
   "id": "171d004d",
   "metadata": {},
   "source": [
    "##### 9 Analyzing by loan amount"
   ]
  },
  {
   "cell_type": "code",
   "execution_count": 48,
   "id": "90514de2",
   "metadata": {},
   "outputs": [
    {
     "data": {
      "text/html": [
       "<div>\n",
       "<style scoped>\n",
       "    .dataframe tbody tr th:only-of-type {\n",
       "        vertical-align: middle;\n",
       "    }\n",
       "\n",
       "    .dataframe tbody tr th {\n",
       "        vertical-align: top;\n",
       "    }\n",
       "\n",
       "    .dataframe thead th {\n",
       "        text-align: right;\n",
       "    }\n",
       "</style>\n",
       "<table border=\"1\" class=\"dataframe\">\n",
       "  <thead>\n",
       "    <tr style=\"text-align: right;\">\n",
       "      <th></th>\n",
       "      <th>loan_amnt</th>\n",
       "      <th>funded_amnt_inv</th>\n",
       "      <th>term</th>\n",
       "      <th>int_rate</th>\n",
       "      <th>installment</th>\n",
       "      <th>grade</th>\n",
       "      <th>sub_grade</th>\n",
       "      <th>emp_length</th>\n",
       "      <th>home_ownership</th>\n",
       "      <th>annual_inc</th>\n",
       "      <th>...</th>\n",
       "      <th>earliest_cr_line</th>\n",
       "      <th>inq_last_6mths</th>\n",
       "      <th>open_acc</th>\n",
       "      <th>pub_rec</th>\n",
       "      <th>revol_util</th>\n",
       "      <th>total_acc</th>\n",
       "      <th>issue_month</th>\n",
       "      <th>issue_year</th>\n",
       "      <th>installment_group</th>\n",
       "      <th>loan_amt_group</th>\n",
       "    </tr>\n",
       "  </thead>\n",
       "  <tbody>\n",
       "    <tr>\n",
       "      <th>0</th>\n",
       "      <td>5000</td>\n",
       "      <td>4975.0</td>\n",
       "      <td>36 months</td>\n",
       "      <td>10.65</td>\n",
       "      <td>162.87</td>\n",
       "      <td>B</td>\n",
       "      <td>2</td>\n",
       "      <td>10.0</td>\n",
       "      <td>RENT</td>\n",
       "      <td>24000.0</td>\n",
       "      <td>...</td>\n",
       "      <td>Jan-85</td>\n",
       "      <td>1</td>\n",
       "      <td>3</td>\n",
       "      <td>0</td>\n",
       "      <td>83.7</td>\n",
       "      <td>9</td>\n",
       "      <td>Dec</td>\n",
       "      <td>2011</td>\n",
       "      <td>125-250</td>\n",
       "      <td>0-3000</td>\n",
       "    </tr>\n",
       "    <tr>\n",
       "      <th>1</th>\n",
       "      <td>2500</td>\n",
       "      <td>2500.0</td>\n",
       "      <td>60 months</td>\n",
       "      <td>15.27</td>\n",
       "      <td>59.83</td>\n",
       "      <td>C</td>\n",
       "      <td>4</td>\n",
       "      <td>0.0</td>\n",
       "      <td>RENT</td>\n",
       "      <td>30000.0</td>\n",
       "      <td>...</td>\n",
       "      <td>Apr-99</td>\n",
       "      <td>5</td>\n",
       "      <td>3</td>\n",
       "      <td>0</td>\n",
       "      <td>9.4</td>\n",
       "      <td>4</td>\n",
       "      <td>Dec</td>\n",
       "      <td>2011</td>\n",
       "      <td>10-125</td>\n",
       "      <td>0-3000</td>\n",
       "    </tr>\n",
       "    <tr>\n",
       "      <th>2</th>\n",
       "      <td>2400</td>\n",
       "      <td>2400.0</td>\n",
       "      <td>36 months</td>\n",
       "      <td>15.96</td>\n",
       "      <td>84.33</td>\n",
       "      <td>C</td>\n",
       "      <td>5</td>\n",
       "      <td>10.0</td>\n",
       "      <td>RENT</td>\n",
       "      <td>12252.0</td>\n",
       "      <td>...</td>\n",
       "      <td>Nov-01</td>\n",
       "      <td>2</td>\n",
       "      <td>2</td>\n",
       "      <td>0</td>\n",
       "      <td>98.5</td>\n",
       "      <td>10</td>\n",
       "      <td>Dec</td>\n",
       "      <td>2011</td>\n",
       "      <td>10-125</td>\n",
       "      <td>0-3000</td>\n",
       "    </tr>\n",
       "    <tr>\n",
       "      <th>3</th>\n",
       "      <td>10000</td>\n",
       "      <td>10000.0</td>\n",
       "      <td>36 months</td>\n",
       "      <td>13.49</td>\n",
       "      <td>339.31</td>\n",
       "      <td>C</td>\n",
       "      <td>1</td>\n",
       "      <td>10.0</td>\n",
       "      <td>RENT</td>\n",
       "      <td>49200.0</td>\n",
       "      <td>...</td>\n",
       "      <td>Feb-96</td>\n",
       "      <td>1</td>\n",
       "      <td>10</td>\n",
       "      <td>0</td>\n",
       "      <td>21.0</td>\n",
       "      <td>37</td>\n",
       "      <td>Dec</td>\n",
       "      <td>2011</td>\n",
       "      <td>225-350</td>\n",
       "      <td>3000-6000</td>\n",
       "    </tr>\n",
       "    <tr>\n",
       "      <th>5</th>\n",
       "      <td>5000</td>\n",
       "      <td>5000.0</td>\n",
       "      <td>36 months</td>\n",
       "      <td>7.90</td>\n",
       "      <td>156.46</td>\n",
       "      <td>A</td>\n",
       "      <td>4</td>\n",
       "      <td>3.0</td>\n",
       "      <td>RENT</td>\n",
       "      <td>36000.0</td>\n",
       "      <td>...</td>\n",
       "      <td>Nov-04</td>\n",
       "      <td>3</td>\n",
       "      <td>9</td>\n",
       "      <td>0</td>\n",
       "      <td>28.3</td>\n",
       "      <td>12</td>\n",
       "      <td>Dec</td>\n",
       "      <td>2011</td>\n",
       "      <td>125-250</td>\n",
       "      <td>0-3000</td>\n",
       "    </tr>\n",
       "  </tbody>\n",
       "</table>\n",
       "<p>5 rows × 25 columns</p>\n",
       "</div>"
      ],
      "text/plain": [
       "   loan_amnt  funded_amnt_inv        term  int_rate  installment grade  \\\n",
       "0       5000           4975.0   36 months     10.65       162.87     B   \n",
       "1       2500           2500.0   60 months     15.27        59.83     C   \n",
       "2       2400           2400.0   36 months     15.96        84.33     C   \n",
       "3      10000          10000.0   36 months     13.49       339.31     C   \n",
       "5       5000           5000.0   36 months      7.90       156.46     A   \n",
       "\n",
       "   sub_grade  emp_length home_ownership  annual_inc  ... earliest_cr_line  \\\n",
       "0          2        10.0           RENT     24000.0  ...           Jan-85   \n",
       "1          4         0.0           RENT     30000.0  ...           Apr-99   \n",
       "2          5        10.0           RENT     12252.0  ...           Nov-01   \n",
       "3          1        10.0           RENT     49200.0  ...           Feb-96   \n",
       "5          4         3.0           RENT     36000.0  ...           Nov-04   \n",
       "\n",
       "  inq_last_6mths open_acc pub_rec  revol_util total_acc  issue_month  \\\n",
       "0              1        3       0        83.7         9          Dec   \n",
       "1              5        3       0         9.4         4          Dec   \n",
       "2              2        2       0        98.5        10          Dec   \n",
       "3              1       10       0        21.0        37          Dec   \n",
       "5              3        9       0        28.3        12          Dec   \n",
       "\n",
       "   issue_year  installment_group  loan_amt_group  \n",
       "0        2011            125-250          0-3000  \n",
       "1        2011             10-125          0-3000  \n",
       "2        2011             10-125          0-3000  \n",
       "3        2011            225-350       3000-6000  \n",
       "5        2011            125-250          0-3000  \n",
       "\n",
       "[5 rows x 25 columns]"
      ]
     },
     "execution_count": 48,
     "metadata": {},
     "output_type": "execute_result"
    }
   ],
   "source": [
    "######creating group of loan_amt\n",
    "loan_data['loan_amt_group']=pd.cut(loan_data.loan_amnt,bins=7,precision=0,labels=['0-3000','3000-6000','6000-9000','9000-1200','12000-15000','15000-18000','18000-21000'])\n",
    "loan_data.head()"
   ]
  },
  {
   "cell_type": "code",
   "execution_count": 49,
   "id": "6c12fb1a",
   "metadata": {},
   "outputs": [
    {
     "data": {
      "image/png": "[encoded data removed]",
      "text/plain": [
       "<Figure size 1080x360 with 1 Axes>"
      ]
     },
     "metadata": {
      "needs_background": "light"
     },
     "output_type": "display_data"
    }
   ],
   "source": [
    "#####Analyzing by loan amount by ploting bins\n",
    "plt.figure(figsize=(15,5))\n",
    "plt.title('Visualization of loan according to loan amount group',weight='bold').set_fontsize('13')\n",
    "sns.countplot(x=loan_data.loan_amt_group,data=loan_data.loan_status=='Charged Off')\n",
    "plt.show()"
   ]
  },
  {
   "cell_type": "markdown",
   "id": "3fd8dacf",
   "metadata": {},
   "source": [
    "#### Observation"
   ]
  },
  {
   "cell_type": "markdown",
   "id": "baf55ea2",
   "metadata": {},
   "source": [
    "* Maximum number of defaults occured when Loan amount is between 3000 - 6000"
   ]
  },
  {
   "cell_type": "markdown",
   "id": "0a7c5f07",
   "metadata": {},
   "source": [
    "##### 9 Analyzing by funded_amnt_inv_group"
   ]
  },
  {
   "cell_type": "code",
   "execution_count": 50,
   "id": "02d4c40f",
   "metadata": {},
   "outputs": [],
   "source": [
    "#### Creating Group for funded_amnt_inv \n",
    "loan_data['funded_amnt_inv_group'] = pd.cut(loan_data['funded_amnt_inv'], bins=7,labels=['0-5k','5k-10k','10k-15k','15k-20k','20k-25k','25k-30k','35k-40k'])\n",
    "                                                                                        "
   ]
  },
  {
   "cell_type": "code",
   "execution_count": 68,
   "id": "90bc8e89",
   "metadata": {},
   "outputs": [
    {
     "data": {
      "image/png": "[encoded data removed]",
      "text/plain": [
       "<Figure size 1080x360 with 1 Axes>"
      ]
     },
     "metadata": {
      "needs_background": "light"
     },
     "output_type": "display_data"
    }
   ],
   "source": [
    "fig,ax = plt.subplots(figsize = (15,5))\n",
    "ax.set_yscale('log')\n",
    "plt.title('Visualization of Annual income with Funded amount investment Group',weight='bold').set_fontsize('13')\n",
    "sns.countplot(x='funded_amnt_inv_group', data=loan_data[loan_data['loan_status']=='Charged Off'])\n",
    "plt.show()"
   ]
  },
  {
   "cell_type": "markdown",
   "id": "1bbac655",
   "metadata": {},
   "source": [
    "#### Observation"
   ]
  },
  {
   "cell_type": "markdown",
   "id": "4932dbc2",
   "metadata": {},
   "source": [
    "* Maximum number of defaults occured When funded amount by investor is between 5000-10000"
   ]
  },
  {
   "cell_type": "markdown",
   "id": "525fcc28",
   "metadata": {},
   "source": [
    "##### 9 Analyzing by Dti"
   ]
  },
  {
   "cell_type": "code",
   "execution_count": 52,
   "id": "3b9051e7",
   "metadata": {},
   "outputs": [],
   "source": [
    "#### Creating Group for dti \n",
    "loan_data['dti_groups'] = pd.cut(loan_data['dti'], bins=5,precision =0,labels=['0-5','5-11','11-17','17-23','23-30'])"
   ]
  },
  {
   "cell_type": "code",
   "execution_count": 67,
   "id": "6017301a",
   "metadata": {},
   "outputs": [
    {
     "data": {
      "image/png": "[encoded data removed]",
      "text/plain": [
       "<Figure size 1080x360 with 1 Axes>"
      ]
     },
     "metadata": {
      "needs_background": "light"
     },
     "output_type": "display_data"
    }
   ],
   "source": [
    "#### analyzing dti \n",
    "plt.figure(figsize=(15,5))\n",
    "plt.title('Visualization of Annual income with dti Group',weight='bold').set_fontsize('13')\n",
    "sns.countplot(x='dti_groups', data=loan_data[loan_data['loan_status']=='Charged Off'])\n",
    "plt.show()"
   ]
  },
  {
   "cell_type": "markdown",
   "id": "69daad3f",
   "metadata": {},
   "source": [
    "#### Observation"
   ]
  },
  {
   "cell_type": "markdown",
   "id": "732d4630",
   "metadata": {},
   "source": [
    "* Maximum number of defaults occured When Dti is between 11-17"
   ]
  },
  {
   "cell_type": "markdown",
   "id": "97264e19",
   "metadata": {},
   "source": [
    "### Bivariate Analysis"
   ]
  },
  {
   "cell_type": "markdown",
   "id": "4ac1dc6a",
   "metadata": {},
   "source": [
    "#### Analyzing Annual income With Other variables"
   ]
  },
  {
   "cell_type": "markdown",
   "id": "d4a65d75",
   "metadata": {},
   "source": [
    "##### 1. Analyzing Annual income vs loan purpose"
   ]
  },
  {
   "cell_type": "code",
   "execution_count": 70,
   "id": "a6ca1f2a",
   "metadata": {},
   "outputs": [
    {
     "data": {
      "image/png": "[encoded data removed]",
      "text/plain": [
       "<Figure size 1080x360 with 1 Axes>"
      ]
     },
     "metadata": {
      "needs_background": "light"
     },
     "output_type": "display_data"
    }
   ],
   "source": [
    "plt.figure(figsize=(15,5))\n",
    "plt.xticks(rotation=60)\n",
    "plt.title('Visualization of Annual income vs loan purpose',weight='bold').set_fontsize('13')\n",
    "sns.barplot(data =loan_data,x='purpose', y='annual_inc', hue ='loan_status',palette=\"deep\")\n",
    "plt.show()"
   ]
  },
  {
   "cell_type": "markdown",
   "id": "243b3b89",
   "metadata": {},
   "source": [
    "#### Observation"
   ]
  },
  {
   "cell_type": "markdown",
   "id": "55ff5e0b",
   "metadata": {},
   "source": [
    "1. Applicatnt more than 60k annual income applied for 'Home improvement' & 'House' loan.\n",
    "2. The ratio of loan defaulter is highest with annual income>50K and who applied for 'Home improvement','House','credit card','small business', 'wedding' and 'debt consolidation'."
   ]
  },
  {
   "cell_type": "markdown",
   "id": "32cddcac",
   "metadata": {},
   "source": [
    "##### 2. Analyzing Annual income vs int_rate"
   ]
  },
  {
   "cell_type": "code",
   "execution_count": 55,
   "id": "5438c1dd",
   "metadata": {},
   "outputs": [
    {
     "data": {
      "text/html": [
       "<div>\n",
       "<style scoped>\n",
       "    .dataframe tbody tr th:only-of-type {\n",
       "        vertical-align: middle;\n",
       "    }\n",
       "\n",
       "    .dataframe tbody tr th {\n",
       "        vertical-align: top;\n",
       "    }\n",
       "\n",
       "    .dataframe thead th {\n",
       "        text-align: right;\n",
       "    }\n",
       "</style>\n",
       "<table border=\"1\" class=\"dataframe\">\n",
       "  <thead>\n",
       "    <tr style=\"text-align: right;\">\n",
       "      <th></th>\n",
       "      <th>loan_amnt</th>\n",
       "      <th>funded_amnt_inv</th>\n",
       "      <th>term</th>\n",
       "      <th>int_rate</th>\n",
       "      <th>installment</th>\n",
       "      <th>grade</th>\n",
       "      <th>sub_grade</th>\n",
       "      <th>emp_length</th>\n",
       "      <th>home_ownership</th>\n",
       "      <th>annual_inc</th>\n",
       "      <th>...</th>\n",
       "      <th>pub_rec</th>\n",
       "      <th>revol_util</th>\n",
       "      <th>total_acc</th>\n",
       "      <th>issue_month</th>\n",
       "      <th>issue_year</th>\n",
       "      <th>installment_group</th>\n",
       "      <th>loan_amt_group</th>\n",
       "      <th>funded_amnt_inv_group</th>\n",
       "      <th>dti_groups</th>\n",
       "      <th>int_rate_groups</th>\n",
       "    </tr>\n",
       "  </thead>\n",
       "  <tbody>\n",
       "    <tr>\n",
       "      <th>0</th>\n",
       "      <td>5000</td>\n",
       "      <td>4975.0</td>\n",
       "      <td>36 months</td>\n",
       "      <td>10.65</td>\n",
       "      <td>162.87</td>\n",
       "      <td>B</td>\n",
       "      <td>2</td>\n",
       "      <td>10.0</td>\n",
       "      <td>RENT</td>\n",
       "      <td>24000.0</td>\n",
       "      <td>...</td>\n",
       "      <td>0</td>\n",
       "      <td>83.7</td>\n",
       "      <td>9</td>\n",
       "      <td>Dec</td>\n",
       "      <td>2011</td>\n",
       "      <td>125-250</td>\n",
       "      <td>0-3000</td>\n",
       "      <td>0-5k</td>\n",
       "      <td>23-30</td>\n",
       "      <td>9-13</td>\n",
       "    </tr>\n",
       "    <tr>\n",
       "      <th>1</th>\n",
       "      <td>2500</td>\n",
       "      <td>2500.0</td>\n",
       "      <td>60 months</td>\n",
       "      <td>15.27</td>\n",
       "      <td>59.83</td>\n",
       "      <td>C</td>\n",
       "      <td>4</td>\n",
       "      <td>0.0</td>\n",
       "      <td>RENT</td>\n",
       "      <td>30000.0</td>\n",
       "      <td>...</td>\n",
       "      <td>0</td>\n",
       "      <td>9.4</td>\n",
       "      <td>4</td>\n",
       "      <td>Dec</td>\n",
       "      <td>2011</td>\n",
       "      <td>10-125</td>\n",
       "      <td>0-3000</td>\n",
       "      <td>0-5k</td>\n",
       "      <td>0-5</td>\n",
       "      <td>13-17</td>\n",
       "    </tr>\n",
       "    <tr>\n",
       "      <th>2</th>\n",
       "      <td>2400</td>\n",
       "      <td>2400.0</td>\n",
       "      <td>36 months</td>\n",
       "      <td>15.96</td>\n",
       "      <td>84.33</td>\n",
       "      <td>C</td>\n",
       "      <td>5</td>\n",
       "      <td>10.0</td>\n",
       "      <td>RENT</td>\n",
       "      <td>12252.0</td>\n",
       "      <td>...</td>\n",
       "      <td>0</td>\n",
       "      <td>98.5</td>\n",
       "      <td>10</td>\n",
       "      <td>Dec</td>\n",
       "      <td>2011</td>\n",
       "      <td>10-125</td>\n",
       "      <td>0-3000</td>\n",
       "      <td>0-5k</td>\n",
       "      <td>5-11</td>\n",
       "      <td>13-17</td>\n",
       "    </tr>\n",
       "    <tr>\n",
       "      <th>3</th>\n",
       "      <td>10000</td>\n",
       "      <td>10000.0</td>\n",
       "      <td>36 months</td>\n",
       "      <td>13.49</td>\n",
       "      <td>339.31</td>\n",
       "      <td>C</td>\n",
       "      <td>1</td>\n",
       "      <td>10.0</td>\n",
       "      <td>RENT</td>\n",
       "      <td>49200.0</td>\n",
       "      <td>...</td>\n",
       "      <td>0</td>\n",
       "      <td>21.0</td>\n",
       "      <td>37</td>\n",
       "      <td>Dec</td>\n",
       "      <td>2011</td>\n",
       "      <td>225-350</td>\n",
       "      <td>3000-6000</td>\n",
       "      <td>5k-10k</td>\n",
       "      <td>17-23</td>\n",
       "      <td>13-17</td>\n",
       "    </tr>\n",
       "    <tr>\n",
       "      <th>5</th>\n",
       "      <td>5000</td>\n",
       "      <td>5000.0</td>\n",
       "      <td>36 months</td>\n",
       "      <td>7.90</td>\n",
       "      <td>156.46</td>\n",
       "      <td>A</td>\n",
       "      <td>4</td>\n",
       "      <td>3.0</td>\n",
       "      <td>RENT</td>\n",
       "      <td>36000.0</td>\n",
       "      <td>...</td>\n",
       "      <td>0</td>\n",
       "      <td>28.3</td>\n",
       "      <td>12</td>\n",
       "      <td>Dec</td>\n",
       "      <td>2011</td>\n",
       "      <td>125-250</td>\n",
       "      <td>0-3000</td>\n",
       "      <td>0-5k</td>\n",
       "      <td>5-11</td>\n",
       "      <td>5-9</td>\n",
       "    </tr>\n",
       "  </tbody>\n",
       "</table>\n",
       "<p>5 rows × 28 columns</p>\n",
       "</div>"
      ],
      "text/plain": [
       "   loan_amnt  funded_amnt_inv        term  int_rate  installment grade  \\\n",
       "0       5000           4975.0   36 months     10.65       162.87     B   \n",
       "1       2500           2500.0   60 months     15.27        59.83     C   \n",
       "2       2400           2400.0   36 months     15.96        84.33     C   \n",
       "3      10000          10000.0   36 months     13.49       339.31     C   \n",
       "5       5000           5000.0   36 months      7.90       156.46     A   \n",
       "\n",
       "   sub_grade  emp_length home_ownership  annual_inc  ... pub_rec revol_util  \\\n",
       "0          2        10.0           RENT     24000.0  ...       0       83.7   \n",
       "1          4         0.0           RENT     30000.0  ...       0        9.4   \n",
       "2          5        10.0           RENT     12252.0  ...       0       98.5   \n",
       "3          1        10.0           RENT     49200.0  ...       0       21.0   \n",
       "5          4         3.0           RENT     36000.0  ...       0       28.3   \n",
       "\n",
       "  total_acc issue_month  issue_year installment_group  loan_amt_group  \\\n",
       "0         9         Dec        2011           125-250          0-3000   \n",
       "1         4         Dec        2011            10-125          0-3000   \n",
       "2        10         Dec        2011            10-125          0-3000   \n",
       "3        37         Dec        2011           225-350       3000-6000   \n",
       "5        12         Dec        2011           125-250          0-3000   \n",
       "\n",
       "   funded_amnt_inv_group  dti_groups  int_rate_groups  \n",
       "0                   0-5k       23-30             9-13  \n",
       "1                   0-5k         0-5            13-17  \n",
       "2                   0-5k        5-11            13-17  \n",
       "3                 5k-10k       17-23            13-17  \n",
       "5                   0-5k        5-11              5-9  \n",
       "\n",
       "[5 rows x 28 columns]"
      ]
     },
     "execution_count": 55,
     "metadata": {},
     "output_type": "execute_result"
    }
   ],
   "source": [
    "##### Creating new column int_rate_groups of int_rate\n",
    "loan_data['int_rate_groups'] = pd.cut(loan_data['int_rate'], bins=5,precision =0,labels=['5-9','9-13','13-17','17-21','21-24'])\n",
    "loan_data.head()\n"
   ]
  },
  {
   "cell_type": "code",
   "execution_count": 71,
   "id": "f939a538",
   "metadata": {},
   "outputs": [
    {
     "data": {
      "image/png": "[encoded data removed]",
      "text/plain": [
       "<Figure size 1080x360 with 1 Axes>"
      ]
     },
     "metadata": {
      "needs_background": "light"
     },
     "output_type": "display_data"
    }
   ],
   "source": [
    "plt.figure(figsize=(15,5))\n",
    "plt.title('Visualization of Annual income vs interesst rate',weight='bold').set_fontsize('13')\n",
    "sns.barplot(data=loan_data,x='int_rate_groups',y='annual_inc',hue='loan_status',palette='deep')\n",
    "plt.show()"
   ]
  },
  {
   "cell_type": "markdown",
   "id": "5eb2ccf6",
   "metadata": {},
   "source": [
    "#### Observation"
   ]
  },
  {
   "cell_type": "markdown",
   "id": "c3fcf020",
   "metadata": {},
   "source": [
    "1. Applicants who have higher income paying high interest rate.\n",
    "2. The ratio of defaulting the loan is higher for applicants who have high income with higher interest rate. "
   ]
  },
  {
   "cell_type": "markdown",
   "id": "da2a40e3",
   "metadata": {},
   "source": [
    "##### 3. Analyzing Annual income vs term"
   ]
  },
  {
   "cell_type": "code",
   "execution_count": 72,
   "id": "baec4841",
   "metadata": {},
   "outputs": [
    {
     "data": {
      "image/png": "[encoded data removed]",
      "text/plain": [
       "<Figure size 1080x360 with 1 Axes>"
      ]
     },
     "metadata": {
      "needs_background": "light"
     },
     "output_type": "display_data"
    }
   ],
   "source": [
    "plt.figure(figsize=(15,5))\n",
    "plt.title('Visualization of Annual income vs term',weight='bold').set_fontsize('13')\n",
    "sns.barplot(data=loan_data,y='annual_inc',x='term', hue='loan_status',palette='YlOrRd')\n",
    "plt.show()"
   ]
  },
  {
   "cell_type": "markdown",
   "id": "bc18d8ca",
   "metadata": {},
   "source": [
    "#### Observation"
   ]
  },
  {
   "attachments": {},
   "cell_type": "markdown",
   "id": "cc99ad39",
   "metadata": {},
   "source": [
    "1. Applicants with high annual income taken loan for maximum no of month(Long term).\n",
    "2. Ratio of defaulting the loan is higher in long term loan as compared to short term loan and who's annual income is high also. "
   ]
  },
  {
   "cell_type": "markdown",
   "id": "ded07ab6",
   "metadata": {},
   "source": [
    "##### 4. Analyzing annual income vs Home ownership"
   ]
  },
  {
   "cell_type": "code",
   "execution_count": 73,
   "id": "8eecf89a",
   "metadata": {},
   "outputs": [
    {
     "data": {
      "image/png": "[encoded data removed]",
      "text/plain": [
       "<Figure size 1080x360 with 1 Axes>"
      ]
     },
     "metadata": {
      "needs_background": "light"
     },
     "output_type": "display_data"
    }
   ],
   "source": [
    "plt.figure(figsize=(15,5))\n",
    "plt.title('Visualization of annual income vs Home ownership',weight='bold').set_fontsize('13')\n",
    "sns.barplot(data=loan_data, x='home_ownership',y='annual_inc',hue='loan_status')\n",
    "plt.show()"
   ]
  },
  {
   "cell_type": "markdown",
   "id": "d92b4aa8",
   "metadata": {},
   "source": [
    "#### Observation"
   ]
  },
  {
   "cell_type": "markdown",
   "id": "6d4057e8",
   "metadata": {},
   "source": [
    "1. Applicants whose home ownership is 'MORTGAGE and have income of 60-70k"
   ]
  },
  {
   "cell_type": "markdown",
   "id": "c120f321",
   "metadata": {},
   "source": [
    "##### 5. Analyzing annual income vs loan amount"
   ]
  },
  {
   "cell_type": "code",
   "execution_count": 74,
   "id": "2b469ad1",
   "metadata": {},
   "outputs": [
    {
     "data": {
      "image/png": "[encoded data removed]",
      "text/plain": [
       "<Figure size 1080x360 with 1 Axes>"
      ]
     },
     "metadata": {
      "needs_background": "light"
     },
     "output_type": "display_data"
    }
   ],
   "source": [
    "plt.figure(figsize=(15,5))\n",
    "plt.title('Visualization of annual income vs loan amount',weight='bold').set_fontsize('13')\n",
    "sns.barplot(data=loan_data,x='loan_amt_group',y='annual_inc',hue='loan_status')\n",
    "plt.show()"
   ]
  },
  {
   "cell_type": "markdown",
   "id": "fa5677e9",
   "metadata": {},
   "source": [
    "#### Observation "
   ]
  },
  {
   "cell_type": "markdown",
   "id": "188ecee3",
   "metadata": {},
   "source": [
    "1. We can clearly see higher the annual income higher the loan is sanctioned.\n",
    "2. Maximum loan amount with higher annual income, the defaulting ratio is higher."
   ]
  },
  {
   "cell_type": "markdown",
   "id": "f70fc059",
   "metadata": {},
   "source": [
    "#### Analyzing Loan amount with other variable"
   ]
  },
  {
   "cell_type": "markdown",
   "id": "3d6631bf",
   "metadata": {},
   "source": [
    "##### 6.Analyzing Loan amount vs Grade"
   ]
  },
  {
   "cell_type": "code",
   "execution_count": 75,
   "id": "60f1a0c9",
   "metadata": {},
   "outputs": [
    {
     "data": {
      "image/png": "[encoded data removed]",
      "text/plain": [
       "<Figure size 1080x360 with 1 Axes>"
      ]
     },
     "metadata": {
      "needs_background": "light"
     },
     "output_type": "display_data"
    }
   ],
   "source": [
    "plt.figure(figsize=(15,5))\n",
    "plt.title('Visualization of Loan amount vs Grade',weight='bold').set_fontsize('13')\n",
    "sns.barplot(data=loan_data,y='loan_amnt',x='grade',hue='loan_status')\n",
    "plt.show()"
   ]
  },
  {
   "cell_type": "markdown",
   "id": "89dbf291",
   "metadata": {},
   "source": [
    "#### Observation"
   ]
  },
  {
   "cell_type": "markdown",
   "id": "66c89d99",
   "metadata": {},
   "source": [
    "1. Applicants with Grade 'G' have take maximum loan amount.\n",
    "2. Applicants with Grade 'G' have 'fully paid' loan amount is more than 'charged off'.\n",
    "3. Applicants with grade 'F' have more 'Charged off' loan compared to grade 'G'."
   ]
  },
  {
   "cell_type": "markdown",
   "id": "8b82a8d8",
   "metadata": {},
   "source": [
    "##### 7.Analyzing Loan amount vs purpose"
   ]
  },
  {
   "cell_type": "code",
   "execution_count": 76,
   "id": "22b7058f",
   "metadata": {},
   "outputs": [
    {
     "data": {
      "image/png": "[encoded data removed]",
      "text/plain": [
       "<Figure size 1080x360 with 1 Axes>"
      ]
     },
     "metadata": {
      "needs_background": "light"
     },
     "output_type": "display_data"
    }
   ],
   "source": [
    "plt.figure(figsize=(15,5))\n",
    "plt.title('Visualization of Loan amount vs purpose',weight='bold').set_fontsize('13')\n",
    "sns.barplot(data=loan_data,x='loan_amnt',y='purpose',hue='loan_status',palette='deep')\n",
    "plt.show()"
   ]
  },
  {
   "cell_type": "markdown",
   "id": "eb62ee82",
   "metadata": {},
   "source": [
    "#### Observation"
   ]
  },
  {
   "cell_type": "markdown",
   "id": "8c3db055",
   "metadata": {},
   "source": [
    "1. We can see Maximum loan is taken for 'Small Business' purpose.\n",
    "2. There are more probability of defaulting whose taken loan for 'small business' purpose.\n",
    "3. defaulting ratio is highest of 'small business' this may be due to 'shutdown' of business."
   ]
  },
  {
   "cell_type": "markdown",
   "id": "9e96caa3",
   "metadata": {},
   "source": [
    "##### 8.Analyzing Loan amount vs Home ownership"
   ]
  },
  {
   "cell_type": "code",
   "execution_count": 77,
   "id": "c36e0efc",
   "metadata": {},
   "outputs": [
    {
     "data": {
      "image/png": "[encoded data removed]",
      "text/plain": [
       "<Figure size 1080x360 with 1 Axes>"
      ]
     },
     "metadata": {
      "needs_background": "light"
     },
     "output_type": "display_data"
    }
   ],
   "source": [
    "plt.figure(figsize=(15,5))\n",
    "plt.title('Visualization of Loan amount vs Home ownership',weight='bold').set_fontsize('13')\n",
    "sns.barplot(data=loan_data,x='loan_amnt',y='home_ownership',hue='loan_status',palette='deep')\n",
    "plt.show()"
   ]
  },
  {
   "cell_type": "markdown",
   "id": "c63d7099",
   "metadata": {},
   "source": [
    "#### Observation"
   ]
  },
  {
   "cell_type": "markdown",
   "id": "8c050ad3",
   "metadata": {},
   "source": [
    "1. Applicants whose home ownership is 'MORTGAGE' have taken maximum amount as compared to other.\n",
    "2. Applicants whose home ownership is 'MORTGAGE' have highest defaulting ratio.\n",
    "3. Applicants whose home ownership is 'MORTGAGE' have paid maximum loan amounts as compared to other."
   ]
  },
  {
   "cell_type": "markdown",
   "id": "206a4822",
   "metadata": {},
   "source": [
    "##### 9.Analyzing Loan amount vs month and year"
   ]
  },
  {
   "cell_type": "code",
   "execution_count": 78,
   "id": "6e70412c",
   "metadata": {},
   "outputs": [
    {
     "data": {
      "image/png": "[encoded data removed]",
      "text/plain": [
       "<Figure size 1440x1440 with 2 Axes>"
      ]
     },
     "metadata": {
      "needs_background": "light"
     },
     "output_type": "display_data"
    }
   ],
   "source": [
    "plt.figure(figsize=(20,20))\n",
    "plt.subplot(221)\n",
    "plt.title('Visualization of Loan amount vs month',weight='bold').set_fontsize('14')\n",
    "sns.lineplot(data =loan_data,y='loan_amnt', x='issue_month', hue ='loan_status',palette=\"YlOrRd\")\n",
    "plt.subplot(222)\n",
    "plt.title('Visualization of Loan amount vs Year',weight='bold').set_fontsize('14')\n",
    "sns.lineplot(data =loan_data,y='loan_amnt', x='issue_year', hue ='loan_status',palette=\"YlOrRd\")\n",
    "plt.show()"
   ]
  },
  {
   "cell_type": "markdown",
   "id": "3b685faf",
   "metadata": {},
   "source": [
    "### Observation"
   ]
  },
  {
   "cell_type": "markdown",
   "id": "ce5762e1",
   "metadata": {},
   "source": [
    "1. Maximum number \"charged off\" loan was sanctioned/issued in December as compared to other month. \n",
    "2. Loan issued is maximum in the year 2011 as compared to other years.\n",
    "3. \"Charged off amount is also maximum in the year 2011 as compared to other years. \n",
    "4. we can see December is the month which has the highest number of loan applications per year and also have the highest default ratio. May be people take loan for Christmas party and then they are not able to pay the amount.\n",
    "5. We can clearly see maximum no of defaulter in year '2011', this may be due to 'RECESSION' and job loss."
   ]
  },
  {
   "cell_type": "markdown",
   "id": "1f0eb9a4",
   "metadata": {},
   "source": [
    "##### 10. Loan amount vs employee service"
   ]
  },
  {
   "cell_type": "code",
   "execution_count": 64,
   "id": "7e863341",
   "metadata": {},
   "outputs": [
    {
     "data": {
      "image/png": "[encoded data removed]",
      "text/plain": [
       "<Figure size 1080x360 with 1 Axes>"
      ]
     },
     "metadata": {
      "needs_background": "light"
     },
     "output_type": "display_data"
    }
   ],
   "source": [
    "plt.figure(figsize=(15,5))\n",
    "plt.title('Visualization of Loan amount vs employee service',weight='bold').set_fontsize('13')\n",
    "sns.barplot(data =loan_data,y='loan_amnt', x='emp_length', hue ='loan_status',palette=\"pastel\")\n",
    "plt.show()"
   ]
  },
  {
   "cell_type": "markdown",
   "id": "3541841d",
   "metadata": {},
   "source": [
    "#### Observation"
   ]
  },
  {
   "attachments": {},
   "cell_type": "markdown",
   "id": "52bc327e",
   "metadata": {},
   "source": [
    "1. Applicants with longer employment length have applied for higher loan amount\n",
    "2. Applicants of all employee length group have more probability to get defaulter as compared to 'fully paid' applicants\n"
   ]
  },
  {
   "cell_type": "markdown",
   "id": "c1cada83",
   "metadata": {},
   "source": [
    "##### 11. Loan amount  group vs interest rate"
   ]
  },
  {
   "cell_type": "code",
   "execution_count": 65,
   "id": "6d23e320",
   "metadata": {},
   "outputs": [
    {
     "data": {
      "image/png": "[encoded data removed]",
      "text/plain": [
       "<Figure size 1152x360 with 1 Axes>"
      ]
     },
     "metadata": {
      "needs_background": "light"
     },
     "output_type": "display_data"
    }
   ],
   "source": [
    "plt.figure(figsize=(16,5))\n",
    "plt.title('Visualization of amount group vs with interest rate',weight='bold').set_fontsize('14')\n",
    "sns.boxplot(data =loan_data,y ='int_rate', x ='loan_amt_group', hue ='loan_status',palette=\"pastel\")\n",
    "plt.show()"
   ]
  },
  {
   "cell_type": "markdown",
   "id": "f9767d68",
   "metadata": {},
   "source": [
    "#### Observation"
   ]
  },
  {
   "cell_type": "markdown",
   "id": "d0625034",
   "metadata": {},
   "source": [
    "1. The interest rate for charged off loans is high than that of fully paid loans in all the loan_amount groups.\n",
    "2. This can be a strong factor for loan defaulting"
   ]
  }
 ],
 "metadata": {
  "kernelspec": {
   "display_name": "Python 3 (ipykernel)",
   "language": "python",
   "name": "python3"
  },
  "language_info": {
   "codemirror_mode": {
    "name": "ipython",
    "version": 3
   },
   "file_extension": ".py",
   "mimetype": "text/x-python",
   "name": "python",
   "nbconvert_exporter": "python",
   "pygments_lexer": "ipython3",
   "version": "3.9.12"
  }
 },
 "nbformat": 4,
 "nbformat_minor": 5
}
